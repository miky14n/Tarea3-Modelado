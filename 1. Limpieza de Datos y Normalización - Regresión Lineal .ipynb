{
 "cells": [
  {
   "cell_type": "code",
   "execution_count": 0,
   "metadata": {
    "application/vnd.databricks.v1+cell": {
     "cellMetadata": {
      "byteLimit": 2048000,
      "rowLimit": 10000
     },
     "inputWidgets": {},
     "nuid": "a4a56b5f-7be2-4e15-a5d2-e6d70406a9f2",
     "showTitle": false,
     "title": ""
    }
   },
   "outputs": [],
   "source": [
    "import numpy as np\n",
    "import matplotlib.pyplot as plt\n",
    "import pandas as pd\n",
    "import sklearn\n",
    "from sklearn.linear_model import LinearRegression\n",
    "from sklearn.preprocessing import StandardScaler"
   ]
  },
  {
   "cell_type": "markdown",
   "metadata": {
    "application/vnd.databricks.v1+cell": {
     "cellMetadata": {
      "byteLimit": 2048000,
      "rowLimit": 10000
     },
     "inputWidgets": {},
     "nuid": "0b483329-cb6a-4c16-8b25-86b52a283d85",
     "showTitle": false,
     "title": ""
    }
   },
   "source": [
    "Verificamos que el archivo sqlite existe con este comando en Databricks:\n",
    ">\n",
    "```dbutils.fs.ls(\"/FileStore/tables/futbol.sqlite\")```"
   ]
  },
  {
   "cell_type": "markdown",
   "metadata": {
    "application/vnd.databricks.v1+cell": {
     "cellMetadata": {
      "byteLimit": 2048000,
      "rowLimit": 10000
     },
     "inputWidgets": {},
     "nuid": "4177294e-c3e2-4178-81b6-212f115bc934",
     "showTitle": false,
     "title": ""
    }
   },
   "source": [
    "# 1. Lectura de los datos\n",
    "Con el archivo `futbol.sqlite` importamos la tabla `Player_Attributes` en un dataframe de pandas para analizar los datos, aquí usamos spark en un notebook creado por *databricks*, en jupyter se podría usar la librería `sqlite3` para cargar los datos"
   ]
  },
  {
   "cell_type": "code",
   "execution_count": 0,
   "metadata": {
    "application/vnd.databricks.v1+cell": {
     "cellMetadata": {
      "byteLimit": 2048000,
      "rowLimit": 10000
     },
     "inputWidgets": {},
     "nuid": "6cedab68-df16-456c-b0c0-7c848f3d2353",
     "showTitle": false,
     "title": ""
    }
   },
   "outputs": [],
   "source": [
    "file_path = \"dbfs:/FileStore/tables/futbol.sqlite\"\n",
    "copy_path = \"file:/tmp/futbol.sqlite\"\n",
    "\n",
    "# Copiar el archivo sqlite temporalmente si no existe ya una copia\n",
    "if not dbutils.fs.cp(file_path, copy_path, True):\n",
    "      dbutils.fs.cp(file_path, copy_path)\n",
    "\n",
    "# DataFrame de Spark\n",
    "futbol_df = spark.read.format('jdbc') \\\n",
    "      .options(driver='org.sqlite.JDBC', dbtable='Player_Attributes',\n",
    "      url=f'jdbc:sqlite:{copy_path}').load()\n",
    "\n",
    "# Spark DataFrame a Pandas\n",
    "futbol_pd = futbol_df.toPandas()"
   ]
  },
  {
   "cell_type": "code",
   "execution_count": 0,
   "metadata": {
    "application/vnd.databricks.v1+cell": {
     "cellMetadata": {
      "byteLimit": 2048000,
      "rowLimit": 10000
     },
     "inputWidgets": {},
     "nuid": "678e9101-c8fa-4275-bbab-375ac9cf5964",
     "showTitle": false,
     "title": ""
    }
   },
   "outputs": [
    {
     "output_type": "display_data",
     "data": {
      "text/html": [
       "<style scoped>\n",
       "  .table-result-container {\n",
       "    max-height: 300px;\n",
       "    overflow: auto;\n",
       "  }\n",
       "  table, th, td {\n",
       "    border: 1px solid black;\n",
       "    border-collapse: collapse;\n",
       "  }\n",
       "  th, td {\n",
       "    padding: 5px;\n",
       "  }\n",
       "  th {\n",
       "    text-align: left;\n",
       "  }\n",
       "</style><div class='table-result-container'><table class='table-result'><thead style='background-color: white'><tr><th>id</th><th>player_fifa_api_id</th><th>player_api_id</th><th>date</th><th>overall_rating</th><th>potential</th><th>preferred_foot</th><th>attacking_work_rate</th><th>defensive_work_rate</th><th>crossing</th><th>finishing</th><th>heading_accuracy</th><th>short_passing</th><th>volleys</th><th>dribbling</th><th>curve</th><th>free_kick_accuracy</th><th>long_passing</th><th>ball_control</th><th>acceleration</th><th>sprint_speed</th><th>agility</th><th>reactions</th><th>balance</th><th>shot_power</th><th>jumping</th><th>stamina</th><th>strength</th><th>long_shots</th><th>aggression</th><th>interceptions</th><th>positioning</th><th>vision</th><th>penalties</th><th>marking</th><th>standing_tackle</th><th>sliding_tackle</th><th>gk_diving</th><th>gk_handling</th><th>gk_kicking</th><th>gk_positioning</th><th>gk_reflexes</th></tr></thead><tbody><tr><td>1</td><td>218353</td><td>505942</td><td>2016-02-18 00:00:00</td><td>67.0</td><td>71.0</td><td>right</td><td>medium</td><td>medium</td><td>49.0</td><td>44.0</td><td>71.0</td><td>61.0</td><td>44.0</td><td>51.0</td><td>45.0</td><td>39.0</td><td>64.0</td><td>49.0</td><td>60.0</td><td>64.0</td><td>59.0</td><td>47.0</td><td>65.0</td><td>55.0</td><td>58.0</td><td>54.0</td><td>76.0</td><td>35.0</td><td>71.0</td><td>70.0</td><td>45.0</td><td>54.0</td><td>48.0</td><td>65.0</td><td>69.0</td><td>69.0</td><td>6.0</td><td>11.0</td><td>10.0</td><td>8.0</td><td>8.0</td></tr><tr><td>2</td><td>218353</td><td>505942</td><td>2015-11-19 00:00:00</td><td>67.0</td><td>71.0</td><td>right</td><td>medium</td><td>medium</td><td>49.0</td><td>44.0</td><td>71.0</td><td>61.0</td><td>44.0</td><td>51.0</td><td>45.0</td><td>39.0</td><td>64.0</td><td>49.0</td><td>60.0</td><td>64.0</td><td>59.0</td><td>47.0</td><td>65.0</td><td>55.0</td><td>58.0</td><td>54.0</td><td>76.0</td><td>35.0</td><td>71.0</td><td>70.0</td><td>45.0</td><td>54.0</td><td>48.0</td><td>65.0</td><td>69.0</td><td>69.0</td><td>6.0</td><td>11.0</td><td>10.0</td><td>8.0</td><td>8.0</td></tr><tr><td>3</td><td>218353</td><td>505942</td><td>2015-09-21 00:00:00</td><td>62.0</td><td>66.0</td><td>right</td><td>medium</td><td>medium</td><td>49.0</td><td>44.0</td><td>71.0</td><td>61.0</td><td>44.0</td><td>51.0</td><td>45.0</td><td>39.0</td><td>64.0</td><td>49.0</td><td>60.0</td><td>64.0</td><td>59.0</td><td>47.0</td><td>65.0</td><td>55.0</td><td>58.0</td><td>54.0</td><td>76.0</td><td>35.0</td><td>63.0</td><td>41.0</td><td>45.0</td><td>54.0</td><td>48.0</td><td>65.0</td><td>66.0</td><td>69.0</td><td>6.0</td><td>11.0</td><td>10.0</td><td>8.0</td><td>8.0</td></tr><tr><td>4</td><td>218353</td><td>505942</td><td>2015-03-20 00:00:00</td><td>61.0</td><td>65.0</td><td>right</td><td>medium</td><td>medium</td><td>48.0</td><td>43.0</td><td>70.0</td><td>60.0</td><td>43.0</td><td>50.0</td><td>44.0</td><td>38.0</td><td>63.0</td><td>48.0</td><td>60.0</td><td>64.0</td><td>59.0</td><td>46.0</td><td>65.0</td><td>54.0</td><td>58.0</td><td>54.0</td><td>76.0</td><td>34.0</td><td>62.0</td><td>40.0</td><td>44.0</td><td>53.0</td><td>47.0</td><td>62.0</td><td>63.0</td><td>66.0</td><td>5.0</td><td>10.0</td><td>9.0</td><td>7.0</td><td>7.0</td></tr><tr><td>5</td><td>218353</td><td>505942</td><td>2007-02-22 00:00:00</td><td>61.0</td><td>65.0</td><td>right</td><td>medium</td><td>medium</td><td>48.0</td><td>43.0</td><td>70.0</td><td>60.0</td><td>43.0</td><td>50.0</td><td>44.0</td><td>38.0</td><td>63.0</td><td>48.0</td><td>60.0</td><td>64.0</td><td>59.0</td><td>46.0</td><td>65.0</td><td>54.0</td><td>58.0</td><td>54.0</td><td>76.0</td><td>34.0</td><td>62.0</td><td>40.0</td><td>44.0</td><td>53.0</td><td>47.0</td><td>62.0</td><td>63.0</td><td>66.0</td><td>5.0</td><td>10.0</td><td>9.0</td><td>7.0</td><td>7.0</td></tr><tr><td>6</td><td>189615</td><td>155782</td><td>2016-04-21 00:00:00</td><td>74.0</td><td>76.0</td><td>left</td><td>high</td><td>medium</td><td>80.0</td><td>53.0</td><td>58.0</td><td>71.0</td><td>40.0</td><td>73.0</td><td>70.0</td><td>69.0</td><td>68.0</td><td>71.0</td><td>79.0</td><td>78.0</td><td>78.0</td><td>67.0</td><td>90.0</td><td>71.0</td><td>85.0</td><td>79.0</td><td>56.0</td><td>62.0</td><td>68.0</td><td>67.0</td><td>60.0</td><td>66.0</td><td>59.0</td><td>76.0</td><td>75.0</td><td>78.0</td><td>14.0</td><td>7.0</td><td>9.0</td><td>9.0</td><td>12.0</td></tr><tr><td>7</td><td>189615</td><td>155782</td><td>2016-04-07 00:00:00</td><td>74.0</td><td>76.0</td><td>left</td><td>high</td><td>medium</td><td>80.0</td><td>53.0</td><td>58.0</td><td>71.0</td><td>32.0</td><td>73.0</td><td>70.0</td><td>69.0</td><td>68.0</td><td>71.0</td><td>79.0</td><td>78.0</td><td>78.0</td><td>67.0</td><td>90.0</td><td>71.0</td><td>85.0</td><td>79.0</td><td>56.0</td><td>60.0</td><td>68.0</td><td>67.0</td><td>60.0</td><td>66.0</td><td>59.0</td><td>76.0</td><td>75.0</td><td>78.0</td><td>14.0</td><td>7.0</td><td>9.0</td><td>9.0</td><td>12.0</td></tr><tr><td>8</td><td>189615</td><td>155782</td><td>2016-01-07 00:00:00</td><td>73.0</td><td>75.0</td><td>left</td><td>high</td><td>medium</td><td>79.0</td><td>52.0</td><td>57.0</td><td>70.0</td><td>29.0</td><td>71.0</td><td>68.0</td><td>69.0</td><td>68.0</td><td>70.0</td><td>79.0</td><td>78.0</td><td>78.0</td><td>67.0</td><td>90.0</td><td>71.0</td><td>84.0</td><td>79.0</td><td>56.0</td><td>59.0</td><td>67.0</td><td>66.0</td><td>58.0</td><td>65.0</td><td>59.0</td><td>76.0</td><td>75.0</td><td>78.0</td><td>14.0</td><td>7.0</td><td>9.0</td><td>9.0</td><td>12.0</td></tr><tr><td>9</td><td>189615</td><td>155782</td><td>2015-12-24 00:00:00</td><td>73.0</td><td>75.0</td><td>left</td><td>high</td><td>medium</td><td>79.0</td><td>51.0</td><td>57.0</td><td>70.0</td><td>29.0</td><td>71.0</td><td>68.0</td><td>69.0</td><td>68.0</td><td>70.0</td><td>79.0</td><td>78.0</td><td>78.0</td><td>67.0</td><td>90.0</td><td>71.0</td><td>84.0</td><td>79.0</td><td>56.0</td><td>58.0</td><td>67.0</td><td>66.0</td><td>58.0</td><td>65.0</td><td>59.0</td><td>76.0</td><td>75.0</td><td>78.0</td><td>14.0</td><td>7.0</td><td>9.0</td><td>9.0</td><td>12.0</td></tr><tr><td>10</td><td>189615</td><td>155782</td><td>2015-12-17 00:00:00</td><td>73.0</td><td>75.0</td><td>left</td><td>high</td><td>medium</td><td>79.0</td><td>51.0</td><td>57.0</td><td>70.0</td><td>29.0</td><td>71.0</td><td>68.0</td><td>69.0</td><td>68.0</td><td>70.0</td><td>79.0</td><td>78.0</td><td>78.0</td><td>67.0</td><td>90.0</td><td>71.0</td><td>84.0</td><td>79.0</td><td>56.0</td><td>58.0</td><td>67.0</td><td>66.0</td><td>58.0</td><td>65.0</td><td>59.0</td><td>76.0</td><td>75.0</td><td>78.0</td><td>14.0</td><td>7.0</td><td>9.0</td><td>9.0</td><td>12.0</td></tr></tbody></table></div>"
      ]
     },
     "metadata": {
      "application/vnd.databricks.v1+output": {
       "addedWidgets": {},
       "aggData": [],
       "aggError": "",
       "aggOverflow": false,
       "aggSchema": [],
       "aggSeriesLimitReached": false,
       "aggType": "",
       "arguments": {},
       "columnCustomDisplayInfos": {},
       "data": [
        [
         1,
         218353,
         505942,
         "2016-02-18 00:00:00",
         67.0,
         71.0,
         "right",
         "medium",
         "medium",
         49.0,
         44.0,
         71.0,
         61.0,
         44.0,
         51.0,
         45.0,
         39.0,
         64.0,
         49.0,
         60.0,
         64.0,
         59.0,
         47.0,
         65.0,
         55.0,
         58.0,
         54.0,
         76.0,
         35.0,
         71.0,
         70.0,
         45.0,
         54.0,
         48.0,
         65.0,
         69.0,
         69.0,
         6.0,
         11.0,
         10.0,
         8.0,
         8.0
        ],
        [
         2,
         218353,
         505942,
         "2015-11-19 00:00:00",
         67.0,
         71.0,
         "right",
         "medium",
         "medium",
         49.0,
         44.0,
         71.0,
         61.0,
         44.0,
         51.0,
         45.0,
         39.0,
         64.0,
         49.0,
         60.0,
         64.0,
         59.0,
         47.0,
         65.0,
         55.0,
         58.0,
         54.0,
         76.0,
         35.0,
         71.0,
         70.0,
         45.0,
         54.0,
         48.0,
         65.0,
         69.0,
         69.0,
         6.0,
         11.0,
         10.0,
         8.0,
         8.0
        ],
        [
         3,
         218353,
         505942,
         "2015-09-21 00:00:00",
         62.0,
         66.0,
         "right",
         "medium",
         "medium",
         49.0,
         44.0,
         71.0,
         61.0,
         44.0,
         51.0,
         45.0,
         39.0,
         64.0,
         49.0,
         60.0,
         64.0,
         59.0,
         47.0,
         65.0,
         55.0,
         58.0,
         54.0,
         76.0,
         35.0,
         63.0,
         41.0,
         45.0,
         54.0,
         48.0,
         65.0,
         66.0,
         69.0,
         6.0,
         11.0,
         10.0,
         8.0,
         8.0
        ],
        [
         4,
         218353,
         505942,
         "2015-03-20 00:00:00",
         61.0,
         65.0,
         "right",
         "medium",
         "medium",
         48.0,
         43.0,
         70.0,
         60.0,
         43.0,
         50.0,
         44.0,
         38.0,
         63.0,
         48.0,
         60.0,
         64.0,
         59.0,
         46.0,
         65.0,
         54.0,
         58.0,
         54.0,
         76.0,
         34.0,
         62.0,
         40.0,
         44.0,
         53.0,
         47.0,
         62.0,
         63.0,
         66.0,
         5.0,
         10.0,
         9.0,
         7.0,
         7.0
        ],
        [
         5,
         218353,
         505942,
         "2007-02-22 00:00:00",
         61.0,
         65.0,
         "right",
         "medium",
         "medium",
         48.0,
         43.0,
         70.0,
         60.0,
         43.0,
         50.0,
         44.0,
         38.0,
         63.0,
         48.0,
         60.0,
         64.0,
         59.0,
         46.0,
         65.0,
         54.0,
         58.0,
         54.0,
         76.0,
         34.0,
         62.0,
         40.0,
         44.0,
         53.0,
         47.0,
         62.0,
         63.0,
         66.0,
         5.0,
         10.0,
         9.0,
         7.0,
         7.0
        ],
        [
         6,
         189615,
         155782,
         "2016-04-21 00:00:00",
         74.0,
         76.0,
         "left",
         "high",
         "medium",
         80.0,
         53.0,
         58.0,
         71.0,
         40.0,
         73.0,
         70.0,
         69.0,
         68.0,
         71.0,
         79.0,
         78.0,
         78.0,
         67.0,
         90.0,
         71.0,
         85.0,
         79.0,
         56.0,
         62.0,
         68.0,
         67.0,
         60.0,
         66.0,
         59.0,
         76.0,
         75.0,
         78.0,
         14.0,
         7.0,
         9.0,
         9.0,
         12.0
        ],
        [
         7,
         189615,
         155782,
         "2016-04-07 00:00:00",
         74.0,
         76.0,
         "left",
         "high",
         "medium",
         80.0,
         53.0,
         58.0,
         71.0,
         32.0,
         73.0,
         70.0,
         69.0,
         68.0,
         71.0,
         79.0,
         78.0,
         78.0,
         67.0,
         90.0,
         71.0,
         85.0,
         79.0,
         56.0,
         60.0,
         68.0,
         67.0,
         60.0,
         66.0,
         59.0,
         76.0,
         75.0,
         78.0,
         14.0,
         7.0,
         9.0,
         9.0,
         12.0
        ],
        [
         8,
         189615,
         155782,
         "2016-01-07 00:00:00",
         73.0,
         75.0,
         "left",
         "high",
         "medium",
         79.0,
         52.0,
         57.0,
         70.0,
         29.0,
         71.0,
         68.0,
         69.0,
         68.0,
         70.0,
         79.0,
         78.0,
         78.0,
         67.0,
         90.0,
         71.0,
         84.0,
         79.0,
         56.0,
         59.0,
         67.0,
         66.0,
         58.0,
         65.0,
         59.0,
         76.0,
         75.0,
         78.0,
         14.0,
         7.0,
         9.0,
         9.0,
         12.0
        ],
        [
         9,
         189615,
         155782,
         "2015-12-24 00:00:00",
         73.0,
         75.0,
         "left",
         "high",
         "medium",
         79.0,
         51.0,
         57.0,
         70.0,
         29.0,
         71.0,
         68.0,
         69.0,
         68.0,
         70.0,
         79.0,
         78.0,
         78.0,
         67.0,
         90.0,
         71.0,
         84.0,
         79.0,
         56.0,
         58.0,
         67.0,
         66.0,
         58.0,
         65.0,
         59.0,
         76.0,
         75.0,
         78.0,
         14.0,
         7.0,
         9.0,
         9.0,
         12.0
        ],
        [
         10,
         189615,
         155782,
         "2015-12-17 00:00:00",
         73.0,
         75.0,
         "left",
         "high",
         "medium",
         79.0,
         51.0,
         57.0,
         70.0,
         29.0,
         71.0,
         68.0,
         69.0,
         68.0,
         70.0,
         79.0,
         78.0,
         78.0,
         67.0,
         90.0,
         71.0,
         84.0,
         79.0,
         56.0,
         58.0,
         67.0,
         66.0,
         58.0,
         65.0,
         59.0,
         76.0,
         75.0,
         78.0,
         14.0,
         7.0,
         9.0,
         9.0,
         12.0
        ]
       ],
       "datasetInfos": [],
       "dbfsResultPath": null,
       "isJsonSchema": true,
       "metadata": {},
       "overflow": false,
       "plotOptions": {
        "customPlotOptions": {},
        "displayType": "table",
        "pivotAggregation": null,
        "pivotColumns": null,
        "xColumns": null,
        "yColumns": null
       },
       "removedWidgets": [],
       "schema": [
        {
         "metadata": "{}",
         "name": "id",
         "type": "\"integer\""
        },
        {
         "metadata": "{}",
         "name": "player_fifa_api_id",
         "type": "\"integer\""
        },
        {
         "metadata": "{}",
         "name": "player_api_id",
         "type": "\"integer\""
        },
        {
         "metadata": "{}",
         "name": "date",
         "type": "\"string\""
        },
        {
         "metadata": "{}",
         "name": "overall_rating",
         "type": "\"double\""
        },
        {
         "metadata": "{}",
         "name": "potential",
         "type": "\"double\""
        },
        {
         "metadata": "{}",
         "name": "preferred_foot",
         "type": "\"string\""
        },
        {
         "metadata": "{}",
         "name": "attacking_work_rate",
         "type": "\"string\""
        },
        {
         "metadata": "{}",
         "name": "defensive_work_rate",
         "type": "\"string\""
        },
        {
         "metadata": "{}",
         "name": "crossing",
         "type": "\"double\""
        },
        {
         "metadata": "{}",
         "name": "finishing",
         "type": "\"double\""
        },
        {
         "metadata": "{}",
         "name": "heading_accuracy",
         "type": "\"double\""
        },
        {
         "metadata": "{}",
         "name": "short_passing",
         "type": "\"double\""
        },
        {
         "metadata": "{}",
         "name": "volleys",
         "type": "\"double\""
        },
        {
         "metadata": "{}",
         "name": "dribbling",
         "type": "\"double\""
        },
        {
         "metadata": "{}",
         "name": "curve",
         "type": "\"double\""
        },
        {
         "metadata": "{}",
         "name": "free_kick_accuracy",
         "type": "\"double\""
        },
        {
         "metadata": "{}",
         "name": "long_passing",
         "type": "\"double\""
        },
        {
         "metadata": "{}",
         "name": "ball_control",
         "type": "\"double\""
        },
        {
         "metadata": "{}",
         "name": "acceleration",
         "type": "\"double\""
        },
        {
         "metadata": "{}",
         "name": "sprint_speed",
         "type": "\"double\""
        },
        {
         "metadata": "{}",
         "name": "agility",
         "type": "\"double\""
        },
        {
         "metadata": "{}",
         "name": "reactions",
         "type": "\"double\""
        },
        {
         "metadata": "{}",
         "name": "balance",
         "type": "\"double\""
        },
        {
         "metadata": "{}",
         "name": "shot_power",
         "type": "\"double\""
        },
        {
         "metadata": "{}",
         "name": "jumping",
         "type": "\"double\""
        },
        {
         "metadata": "{}",
         "name": "stamina",
         "type": "\"double\""
        },
        {
         "metadata": "{}",
         "name": "strength",
         "type": "\"double\""
        },
        {
         "metadata": "{}",
         "name": "long_shots",
         "type": "\"double\""
        },
        {
         "metadata": "{}",
         "name": "aggression",
         "type": "\"double\""
        },
        {
         "metadata": "{}",
         "name": "interceptions",
         "type": "\"double\""
        },
        {
         "metadata": "{}",
         "name": "positioning",
         "type": "\"double\""
        },
        {
         "metadata": "{}",
         "name": "vision",
         "type": "\"double\""
        },
        {
         "metadata": "{}",
         "name": "penalties",
         "type": "\"double\""
        },
        {
         "metadata": "{}",
         "name": "marking",
         "type": "\"double\""
        },
        {
         "metadata": "{}",
         "name": "standing_tackle",
         "type": "\"double\""
        },
        {
         "metadata": "{}",
         "name": "sliding_tackle",
         "type": "\"double\""
        },
        {
         "metadata": "{}",
         "name": "gk_diving",
         "type": "\"double\""
        },
        {
         "metadata": "{}",
         "name": "gk_handling",
         "type": "\"double\""
        },
        {
         "metadata": "{}",
         "name": "gk_kicking",
         "type": "\"double\""
        },
        {
         "metadata": "{}",
         "name": "gk_positioning",
         "type": "\"double\""
        },
        {
         "metadata": "{}",
         "name": "gk_reflexes",
         "type": "\"double\""
        }
       ],
       "type": "table"
      }
     },
     "output_type": "display_data"
    }
   ],
   "source": [
    "display(futbol_pd.head(10))"
   ]
  },
  {
   "cell_type": "markdown",
   "metadata": {
    "application/vnd.databricks.v1+cell": {
     "cellMetadata": {
      "byteLimit": 2048000,
      "rowLimit": 10000
     },
     "inputWidgets": {},
     "nuid": "cbb82d4b-345f-4b81-ad59-731b7b9ffd74",
     "showTitle": false,
     "title": ""
    }
   },
   "source": [
    "\n",
    "# 2. Preparación y transformación de datos"
   ]
  },
  {
   "cell_type": "code",
   "execution_count": 0,
   "metadata": {
    "application/vnd.databricks.v1+cell": {
     "cellMetadata": {
      "byteLimit": 2048000,
      "rowLimit": 10000
     },
     "inputWidgets": {},
     "nuid": "ffc16cc3-a520-4e05-9b17-11e747b34f25",
     "showTitle": false,
     "title": ""
    }
   },
   "outputs": [
    {
     "output_type": "stream",
     "name": "stdout",
     "output_type": "stream",
     "text": [
      "Shape Player_Attributes: (183978, 42)\n"
     ]
    }
   ],
   "source": [
    "futbol_shape = futbol_pd.shape\n",
    "print(\"Shape Player_Attributes:\", futbol_shape)"
   ]
  },
  {
   "cell_type": "markdown",
   "metadata": {
    "application/vnd.databricks.v1+cell": {
     "cellMetadata": {
      "byteLimit": 2048000,
      "rowLimit": 10000
     },
     "inputWidgets": {},
     "nuid": "b9db6e2f-9842-48a9-a9b2-b59623a2210f",
     "showTitle": false,
     "title": ""
    }
   },
   "source": [
    "\n",
    "El tamaño de los datos almacenados son de casi 184 mil datos, a este punto es necesario verificar si el dataset necesita de una limpieza, es decir eliminar valores nulos o que sean ceros, tomar en cuenta que valores categoricos en caso de existir tomar para la limpieza, etc"
   ]
  },
  {
   "cell_type": "code",
   "execution_count": 0,
   "metadata": {
    "application/vnd.databricks.v1+cell": {
     "cellMetadata": {
      "byteLimit": 2048000,
      "rowLimit": 10000
     },
     "inputWidgets": {},
     "nuid": "d08b46a0-284c-4630-a6c4-576926bd649f",
     "showTitle": false,
     "title": ""
    }
   },
   "outputs": [
    {
     "output_type": "stream",
     "name": "stdout",
     "output_type": "stream",
     "text": [
      "Antes: (183978, 42) vs Después: (180354, 42)\n"
     ]
    }
   ],
   "source": [
    "# Para empezar con la limpieza, eliminamos todos los valores nulos que se encuentren en el dataframe\n",
    "futbol_pd = futbol_pd.dropna(how='any')\n",
    "print(f'Antes: {futbol_shape} vs Después: {futbol_pd.shape}')"
   ]
  },
  {
   "cell_type": "code",
   "execution_count": 0,
   "metadata": {
    "application/vnd.databricks.v1+cell": {
     "cellMetadata": {
      "byteLimit": 2048000,
      "rowLimit": 10000
     },
     "inputWidgets": {},
     "nuid": "38e502d1-155c-44d1-a7d0-391e4714d38f",
     "showTitle": false,
     "title": ""
    }
   },
   "outputs": [
    {
     "output_type": "stream",
     "name": "stdout",
     "output_type": "stream",
     "text": [
      "id                       int32\nplayer_fifa_api_id       int32\nplayer_api_id            int32\ndate                    object\noverall_rating         float64\npotential              float64\npreferred_foot          object\nattacking_work_rate     object\ndefensive_work_rate     object\ncrossing               float64\nfinishing              float64\nheading_accuracy       float64\nshort_passing          float64\nvolleys                float64\ndribbling              float64\ncurve                  float64\nfree_kick_accuracy     float64\nlong_passing           float64\nball_control           float64\nacceleration           float64\nsprint_speed           float64\nagility                float64\nreactions              float64\nbalance                float64\nshot_power             float64\njumping                float64\nstamina                float64\nstrength               float64\nlong_shots             float64\naggression             float64\ninterceptions          float64\npositioning            float64\nvision                 float64\npenalties              float64\nmarking                float64\nstanding_tackle        float64\nsliding_tackle         float64\ngk_diving              float64\ngk_handling            float64\ngk_kicking             float64\ngk_positioning         float64\ngk_reflexes            float64\ndtype: object"
     ]
    }
   ],
   "source": [
    "display(futbol_pd.dtypes)"
   ]
  },
  {
   "cell_type": "markdown",
   "metadata": {
    "application/vnd.databricks.v1+cell": {
     "cellMetadata": {
      "byteLimit": 2048000,
      "rowLimit": 10000
     },
     "inputWidgets": {},
     "nuid": "f73a56ae-0ae3-407e-9ce0-378ef47a0657",
     "showTitle": false,
     "title": ""
    }
   },
   "source": [
    "Revisamos las columnas que no son de tipo numerico (categoricas), en este caso las que son object para determinar si son de utilidad"
   ]
  },
  {
   "cell_type": "code",
   "execution_count": 0,
   "metadata": {
    "application/vnd.databricks.v1+cell": {
     "cellMetadata": {
      "byteLimit": 2048000,
      "rowLimit": 10000
     },
     "inputWidgets": {},
     "nuid": "85d23fee-0362-48c6-9f4d-cbf769839ef5",
     "showTitle": false,
     "title": ""
    }
   },
   "outputs": [
    {
     "output_type": "stream",
     "name": "stdout",
     "output_type": "stream",
     "text": [
      "date: ['2016-02-18 00:00:00', '2015-11-19 00:00:00', '2015-09-21 00:00:00', '2015-03-20 00:00:00', '2007-02-22 00:00:00', '2016-04-21 00:00:00', '2016-04-07 00:00:00', '2016-01-07 00:00:00', '2015-12-24 00:00:00', '2015-12-17 00:00:00', '2015-10-16 00:00:00', '2015-09-25 00:00:00', '2015-01-09 00:00:00', '2014-12-05 00:00:00', '2014-11-07 00:00:00', '2014-09-18 00:00:00', '2014-05-02 00:00:00', '2014-04-04 00:00:00', '2014-03-14 00:00:00', '2013-12-13 00:00:00', '2013-11-08 00:00:00', '2013-10-04 00:00:00', '2013-09-20 00:00:00', '2013-05-03 00:00:00', '2013-03-22 00:00:00', '2013-03-15 00:00:00', '2013-02-22 00:00:00', '2013-02-15 00:00:00', '2012-08-31 00:00:00', '2012-02-22 00:00:00', '2011-08-30 00:00:00', '2010-08-30 00:00:00', '2010-02-22 00:00:00', '2009-08-30 00:00:00', '2009-02-22 00:00:00', '2008-08-30 00:00:00', '2015-10-09 00:00:00', '2014-12-12 00:00:00', '2014-04-18 00:00:00', '2014-01-31 00:00:00', '2013-11-29 00:00:00', '2013-05-31 00:00:00', '2013-04-26 00:00:00', '2013-04-19 00:00:00', '2013-04-05 00:00:00', '2013-03-08 00:00:00', '2011-02-22 00:00:00', '2015-10-02 00:00:00', '2015-07-03 00:00:00', '2015-06-12 00:00:00', '2015-01-16 00:00:00', '2014-11-14 00:00:00', '2014-06-06 00:00:00', '2014-04-11 00:00:00', '2013-05-10 00:00:00', '2007-08-30 00:00:00', '2015-05-08 00:00:00', '2015-04-10 00:00:00', '2014-01-17 00:00:00', '2016-04-28 00:00:00', '2016-02-25 00:00:00', '2015-09-04 00:00:00', '2014-02-28 00:00:00', '2014-02-14 00:00:00', '2013-10-18 00:00:00', '2016-02-04 00:00:00', '2014-10-02 00:00:00', '2015-06-05 00:00:00', '2015-02-06 00:00:00', '2014-03-21 00:00:00', '2014-02-07 00:00:00', '2013-11-01 00:00:00', '2013-05-24 00:00:00', '2016-01-28 00:00:00', '2014-12-27 00:00:00', '2014-10-31 00:00:00', '2014-10-10 00:00:00', '2015-12-03 00:00:00', '2015-11-26 00:00:00', '2015-10-30 00:00:00', '2014-01-03 00:00:00', '2013-03-01 00:00:00', '2016-01-21 00:00:00', '2015-11-06 00:00:00', '2015-05-22 00:00:00', '2015-05-15 00:00:00', '2015-02-13 00:00:00', '2015-01-30 00:00:00', '2014-09-19 00:00:00', '2013-11-22 00:00:00', '2014-04-25 00:00:00', '2013-12-27 00:00:00', '2016-04-14 00:00:00', '2015-11-12 00:00:00', '2015-03-06 00:00:00', '2013-12-20 00:00:00', '2016-03-10 00:00:00', '2016-03-03 00:00:00', '2014-12-19 00:00:00', '2013-12-06 00:00:00', '2013-10-25 00:00:00', '2013-10-11 00:00:00', '2013-09-27 00:00:00', '2013-08-16 00:00:00', '2015-02-27 00:00:00', '2015-01-02 00:00:00', '2014-01-10 00:00:00', '2016-05-12 00:00:00', '2016-01-14 00:00:00', '2016-06-23 00:00:00', '2013-03-28 00:00:00', '2016-03-17 00:00:00', '2014-07-18 00:00:00', '2013-06-07 00:00:00', '2015-01-23 00:00:00', '2015-05-29 00:00:00', '2014-05-16 00:00:00', '2014-05-09 00:00:00', '2013-04-12 00:00:00', '2014-10-24 00:00:00', '2014-11-28 00:00:00', '2014-11-26 00:00:00', '2013-05-17 00:00:00', '2016-06-09 00:00:00', '2016-03-24 00:00:00', '2015-03-27 00:00:00', '2014-03-28 00:00:00', '2014-03-07 00:00:00', '2014-02-21 00:00:00', '2014-01-24 00:00:00', '2015-12-10 00:00:00', '2016-03-31 00:00:00', '2015-04-17 00:00:00', '2015-04-01 00:00:00', '2008-02-22 00:00:00', '2015-02-20 00:00:00', '2016-05-05 00:00:00', '2016-02-11 00:00:00', '2014-11-21 00:00:00', '2014-07-25 00:00:00', '2013-07-12 00:00:00', '2014-10-17 00:00:00', '2013-07-05 00:00:00', '2015-10-23 00:00:00', '2015-03-13 00:00:00', '2013-11-15 00:00:00', '2016-02-19 00:00:00', '2015-04-24 00:00:00', '2015-08-14 00:00:00', '2016-07-07 00:00:00', '2014-05-30 00:00:00', '2014-09-23 00:00:00', '2016-06-02 00:00:00', '2016-05-19 00:00:00', '2015-05-01 00:00:00', '2014-05-23 00:00:00', '2016-06-16 00:00:00', '2015-03-10 00:00:00', '2013-09-06 00:00:00', '2015-10-19 00:00:00', '2013-06-14 00:00:00', '2016-05-26 00:00:00', '2015-08-27 00:00:00', '2015-07-31 00:00:00', '2013-08-23 00:00:00', '2013-08-30 00:00:00', '2013-08-09 00:00:00', '2015-07-24 00:00:00', '2014-08-22 00:00:00', '2014-08-15 00:00:00', '2014-08-08 00:00:00', '2013-07-26 00:00:00', '2015-01-26 00:00:00', '2013-06-21 00:00:00', '2013-06-28 00:00:00', '2013-08-02 00:00:00', '2013-07-19 00:00:00', '2015-07-10 00:00:00', '2014-09-12 00:00:00', '2013-09-13 00:00:00', '2015-12-30 00:00:00', '2014-08-29 00:00:00', '2015-08-21 00:00:00', '2016-06-30 00:00:00', '2015-07-16 00:00:00', '2014-08-01 00:00:00', '2015-08-07 00:00:00', '2013-03-04 00:00:00', '2015-01-28 00:00:00', '2014-09-05 00:00:00', '2015-06-19 00:00:00', '2014-09-26 00:00:00', '2015-09-10 00:00:00', '2015-06-26 00:00:00', '2015-09-01 00:00:00', '2016-02-13 00:00:00', '2014-07-20 00:00:00']\npreferred_foot: ['right', 'left']\nattacking_work_rate: ['medium', 'high', 'low', 'None', 'le', 'norm', 'stoc', 'y']\ndefensive_work_rate: ['medium', 'high', 'low', '5', 'ean', 'o', '1', 'ormal', '7', '2', '8', '4', 'tocky', '0', '3', '6', '9', 'es']\n"
     ]
    }
   ],
   "source": [
    "def print_unique_values(data_frame, dtype='object'):\n",
    "    for column in data_frame.columns:\n",
    "        if data_frame[column].dtype == dtype:\n",
    "            print(f'{column}: {list(data_frame[column].unique())}')\n",
    "\n",
    "print_unique_values(futbol_pd)"
   ]
  },
  {
   "cell_type": "markdown",
   "metadata": {
    "application/vnd.databricks.v1+cell": {
     "cellMetadata": {
      "byteLimit": 2048000,
      "rowLimit": 10000
     },
     "inputWidgets": {},
     "nuid": "dc29a961-30fd-4f4e-9acd-bc99658769bd",
     "showTitle": false,
     "title": ""
    }
   },
   "source": [
    "Observamos que `date` no es de utilidad, `attacking_work_rate` y `defensive_work_rate` tienen valores basura.\n",
    ">\n",
    "Teniendo en cuenta esto decidimos eliminar la columna `date` ya que es irrelevante.\n",
    ">\n",
    "Para attacking y defensive eliminamos los datos basura que no sean igual a 'high', 'medium' y 'low'"
   ]
  },
  {
   "cell_type": "code",
   "execution_count": 0,
   "metadata": {
    "application/vnd.databricks.v1+cell": {
     "cellMetadata": {
      "byteLimit": 2048000,
      "rowLimit": 10000
     },
     "inputWidgets": {},
     "nuid": "9fdaca77-9282-4b61-be5c-8fb6ad30adfa",
     "showTitle": false,
     "title": ""
    }
   },
   "outputs": [
    {
     "output_type": "display_data",
     "data": {
      "text/html": [
       "<style scoped>\n",
       "  .table-result-container {\n",
       "    max-height: 300px;\n",
       "    overflow: auto;\n",
       "  }\n",
       "  table, th, td {\n",
       "    border: 1px solid black;\n",
       "    border-collapse: collapse;\n",
       "  }\n",
       "  th, td {\n",
       "    padding: 5px;\n",
       "  }\n",
       "  th {\n",
       "    text-align: left;\n",
       "  }\n",
       "</style><div class='table-result-container'><table class='table-result'><thead style='background-color: white'><tr><th>id</th><th>player_fifa_api_id</th><th>player_api_id</th><th>overall_rating</th><th>potential</th><th>preferred_foot</th><th>attacking_work_rate</th><th>defensive_work_rate</th><th>crossing</th><th>finishing</th><th>heading_accuracy</th><th>short_passing</th><th>volleys</th><th>dribbling</th><th>curve</th><th>free_kick_accuracy</th><th>long_passing</th><th>ball_control</th><th>acceleration</th><th>sprint_speed</th><th>agility</th><th>reactions</th><th>balance</th><th>shot_power</th><th>jumping</th><th>stamina</th><th>strength</th><th>long_shots</th><th>aggression</th><th>interceptions</th><th>positioning</th><th>vision</th><th>penalties</th><th>marking</th><th>standing_tackle</th><th>sliding_tackle</th><th>gk_diving</th><th>gk_handling</th><th>gk_kicking</th><th>gk_positioning</th><th>gk_reflexes</th></tr></thead><tbody><tr><td>1</td><td>218353</td><td>505942</td><td>67.0</td><td>71.0</td><td>right</td><td>medium</td><td>medium</td><td>49.0</td><td>44.0</td><td>71.0</td><td>61.0</td><td>44.0</td><td>51.0</td><td>45.0</td><td>39.0</td><td>64.0</td><td>49.0</td><td>60.0</td><td>64.0</td><td>59.0</td><td>47.0</td><td>65.0</td><td>55.0</td><td>58.0</td><td>54.0</td><td>76.0</td><td>35.0</td><td>71.0</td><td>70.0</td><td>45.0</td><td>54.0</td><td>48.0</td><td>65.0</td><td>69.0</td><td>69.0</td><td>6.0</td><td>11.0</td><td>10.0</td><td>8.0</td><td>8.0</td></tr><tr><td>2</td><td>218353</td><td>505942</td><td>67.0</td><td>71.0</td><td>right</td><td>medium</td><td>medium</td><td>49.0</td><td>44.0</td><td>71.0</td><td>61.0</td><td>44.0</td><td>51.0</td><td>45.0</td><td>39.0</td><td>64.0</td><td>49.0</td><td>60.0</td><td>64.0</td><td>59.0</td><td>47.0</td><td>65.0</td><td>55.0</td><td>58.0</td><td>54.0</td><td>76.0</td><td>35.0</td><td>71.0</td><td>70.0</td><td>45.0</td><td>54.0</td><td>48.0</td><td>65.0</td><td>69.0</td><td>69.0</td><td>6.0</td><td>11.0</td><td>10.0</td><td>8.0</td><td>8.0</td></tr><tr><td>3</td><td>218353</td><td>505942</td><td>62.0</td><td>66.0</td><td>right</td><td>medium</td><td>medium</td><td>49.0</td><td>44.0</td><td>71.0</td><td>61.0</td><td>44.0</td><td>51.0</td><td>45.0</td><td>39.0</td><td>64.0</td><td>49.0</td><td>60.0</td><td>64.0</td><td>59.0</td><td>47.0</td><td>65.0</td><td>55.0</td><td>58.0</td><td>54.0</td><td>76.0</td><td>35.0</td><td>63.0</td><td>41.0</td><td>45.0</td><td>54.0</td><td>48.0</td><td>65.0</td><td>66.0</td><td>69.0</td><td>6.0</td><td>11.0</td><td>10.0</td><td>8.0</td><td>8.0</td></tr><tr><td>4</td><td>218353</td><td>505942</td><td>61.0</td><td>65.0</td><td>right</td><td>medium</td><td>medium</td><td>48.0</td><td>43.0</td><td>70.0</td><td>60.0</td><td>43.0</td><td>50.0</td><td>44.0</td><td>38.0</td><td>63.0</td><td>48.0</td><td>60.0</td><td>64.0</td><td>59.0</td><td>46.0</td><td>65.0</td><td>54.0</td><td>58.0</td><td>54.0</td><td>76.0</td><td>34.0</td><td>62.0</td><td>40.0</td><td>44.0</td><td>53.0</td><td>47.0</td><td>62.0</td><td>63.0</td><td>66.0</td><td>5.0</td><td>10.0</td><td>9.0</td><td>7.0</td><td>7.0</td></tr><tr><td>5</td><td>218353</td><td>505942</td><td>61.0</td><td>65.0</td><td>right</td><td>medium</td><td>medium</td><td>48.0</td><td>43.0</td><td>70.0</td><td>60.0</td><td>43.0</td><td>50.0</td><td>44.0</td><td>38.0</td><td>63.0</td><td>48.0</td><td>60.0</td><td>64.0</td><td>59.0</td><td>46.0</td><td>65.0</td><td>54.0</td><td>58.0</td><td>54.0</td><td>76.0</td><td>34.0</td><td>62.0</td><td>40.0</td><td>44.0</td><td>53.0</td><td>47.0</td><td>62.0</td><td>63.0</td><td>66.0</td><td>5.0</td><td>10.0</td><td>9.0</td><td>7.0</td><td>7.0</td></tr><tr><td>6</td><td>189615</td><td>155782</td><td>74.0</td><td>76.0</td><td>left</td><td>high</td><td>medium</td><td>80.0</td><td>53.0</td><td>58.0</td><td>71.0</td><td>40.0</td><td>73.0</td><td>70.0</td><td>69.0</td><td>68.0</td><td>71.0</td><td>79.0</td><td>78.0</td><td>78.0</td><td>67.0</td><td>90.0</td><td>71.0</td><td>85.0</td><td>79.0</td><td>56.0</td><td>62.0</td><td>68.0</td><td>67.0</td><td>60.0</td><td>66.0</td><td>59.0</td><td>76.0</td><td>75.0</td><td>78.0</td><td>14.0</td><td>7.0</td><td>9.0</td><td>9.0</td><td>12.0</td></tr><tr><td>7</td><td>189615</td><td>155782</td><td>74.0</td><td>76.0</td><td>left</td><td>high</td><td>medium</td><td>80.0</td><td>53.0</td><td>58.0</td><td>71.0</td><td>32.0</td><td>73.0</td><td>70.0</td><td>69.0</td><td>68.0</td><td>71.0</td><td>79.0</td><td>78.0</td><td>78.0</td><td>67.0</td><td>90.0</td><td>71.0</td><td>85.0</td><td>79.0</td><td>56.0</td><td>60.0</td><td>68.0</td><td>67.0</td><td>60.0</td><td>66.0</td><td>59.0</td><td>76.0</td><td>75.0</td><td>78.0</td><td>14.0</td><td>7.0</td><td>9.0</td><td>9.0</td><td>12.0</td></tr><tr><td>8</td><td>189615</td><td>155782</td><td>73.0</td><td>75.0</td><td>left</td><td>high</td><td>medium</td><td>79.0</td><td>52.0</td><td>57.0</td><td>70.0</td><td>29.0</td><td>71.0</td><td>68.0</td><td>69.0</td><td>68.0</td><td>70.0</td><td>79.0</td><td>78.0</td><td>78.0</td><td>67.0</td><td>90.0</td><td>71.0</td><td>84.0</td><td>79.0</td><td>56.0</td><td>59.0</td><td>67.0</td><td>66.0</td><td>58.0</td><td>65.0</td><td>59.0</td><td>76.0</td><td>75.0</td><td>78.0</td><td>14.0</td><td>7.0</td><td>9.0</td><td>9.0</td><td>12.0</td></tr><tr><td>9</td><td>189615</td><td>155782</td><td>73.0</td><td>75.0</td><td>left</td><td>high</td><td>medium</td><td>79.0</td><td>51.0</td><td>57.0</td><td>70.0</td><td>29.0</td><td>71.0</td><td>68.0</td><td>69.0</td><td>68.0</td><td>70.0</td><td>79.0</td><td>78.0</td><td>78.0</td><td>67.0</td><td>90.0</td><td>71.0</td><td>84.0</td><td>79.0</td><td>56.0</td><td>58.0</td><td>67.0</td><td>66.0</td><td>58.0</td><td>65.0</td><td>59.0</td><td>76.0</td><td>75.0</td><td>78.0</td><td>14.0</td><td>7.0</td><td>9.0</td><td>9.0</td><td>12.0</td></tr><tr><td>10</td><td>189615</td><td>155782</td><td>73.0</td><td>75.0</td><td>left</td><td>high</td><td>medium</td><td>79.0</td><td>51.0</td><td>57.0</td><td>70.0</td><td>29.0</td><td>71.0</td><td>68.0</td><td>69.0</td><td>68.0</td><td>70.0</td><td>79.0</td><td>78.0</td><td>78.0</td><td>67.0</td><td>90.0</td><td>71.0</td><td>84.0</td><td>79.0</td><td>56.0</td><td>58.0</td><td>67.0</td><td>66.0</td><td>58.0</td><td>65.0</td><td>59.0</td><td>76.0</td><td>75.0</td><td>78.0</td><td>14.0</td><td>7.0</td><td>9.0</td><td>9.0</td><td>12.0</td></tr></tbody></table></div>"
      ]
     },
     "metadata": {
      "application/vnd.databricks.v1+output": {
       "addedWidgets": {},
       "aggData": [],
       "aggError": "",
       "aggOverflow": false,
       "aggSchema": [],
       "aggSeriesLimitReached": false,
       "aggType": "",
       "arguments": {},
       "columnCustomDisplayInfos": {},
       "data": [
        [
         1,
         218353,
         505942,
         67.0,
         71.0,
         "right",
         "medium",
         "medium",
         49.0,
         44.0,
         71.0,
         61.0,
         44.0,
         51.0,
         45.0,
         39.0,
         64.0,
         49.0,
         60.0,
         64.0,
         59.0,
         47.0,
         65.0,
         55.0,
         58.0,
         54.0,
         76.0,
         35.0,
         71.0,
         70.0,
         45.0,
         54.0,
         48.0,
         65.0,
         69.0,
         69.0,
         6.0,
         11.0,
         10.0,
         8.0,
         8.0
        ],
        [
         2,
         218353,
         505942,
         67.0,
         71.0,
         "right",
         "medium",
         "medium",
         49.0,
         44.0,
         71.0,
         61.0,
         44.0,
         51.0,
         45.0,
         39.0,
         64.0,
         49.0,
         60.0,
         64.0,
         59.0,
         47.0,
         65.0,
         55.0,
         58.0,
         54.0,
         76.0,
         35.0,
         71.0,
         70.0,
         45.0,
         54.0,
         48.0,
         65.0,
         69.0,
         69.0,
         6.0,
         11.0,
         10.0,
         8.0,
         8.0
        ],
        [
         3,
         218353,
         505942,
         62.0,
         66.0,
         "right",
         "medium",
         "medium",
         49.0,
         44.0,
         71.0,
         61.0,
         44.0,
         51.0,
         45.0,
         39.0,
         64.0,
         49.0,
         60.0,
         64.0,
         59.0,
         47.0,
         65.0,
         55.0,
         58.0,
         54.0,
         76.0,
         35.0,
         63.0,
         41.0,
         45.0,
         54.0,
         48.0,
         65.0,
         66.0,
         69.0,
         6.0,
         11.0,
         10.0,
         8.0,
         8.0
        ],
        [
         4,
         218353,
         505942,
         61.0,
         65.0,
         "right",
         "medium",
         "medium",
         48.0,
         43.0,
         70.0,
         60.0,
         43.0,
         50.0,
         44.0,
         38.0,
         63.0,
         48.0,
         60.0,
         64.0,
         59.0,
         46.0,
         65.0,
         54.0,
         58.0,
         54.0,
         76.0,
         34.0,
         62.0,
         40.0,
         44.0,
         53.0,
         47.0,
         62.0,
         63.0,
         66.0,
         5.0,
         10.0,
         9.0,
         7.0,
         7.0
        ],
        [
         5,
         218353,
         505942,
         61.0,
         65.0,
         "right",
         "medium",
         "medium",
         48.0,
         43.0,
         70.0,
         60.0,
         43.0,
         50.0,
         44.0,
         38.0,
         63.0,
         48.0,
         60.0,
         64.0,
         59.0,
         46.0,
         65.0,
         54.0,
         58.0,
         54.0,
         76.0,
         34.0,
         62.0,
         40.0,
         44.0,
         53.0,
         47.0,
         62.0,
         63.0,
         66.0,
         5.0,
         10.0,
         9.0,
         7.0,
         7.0
        ],
        [
         6,
         189615,
         155782,
         74.0,
         76.0,
         "left",
         "high",
         "medium",
         80.0,
         53.0,
         58.0,
         71.0,
         40.0,
         73.0,
         70.0,
         69.0,
         68.0,
         71.0,
         79.0,
         78.0,
         78.0,
         67.0,
         90.0,
         71.0,
         85.0,
         79.0,
         56.0,
         62.0,
         68.0,
         67.0,
         60.0,
         66.0,
         59.0,
         76.0,
         75.0,
         78.0,
         14.0,
         7.0,
         9.0,
         9.0,
         12.0
        ],
        [
         7,
         189615,
         155782,
         74.0,
         76.0,
         "left",
         "high",
         "medium",
         80.0,
         53.0,
         58.0,
         71.0,
         32.0,
         73.0,
         70.0,
         69.0,
         68.0,
         71.0,
         79.0,
         78.0,
         78.0,
         67.0,
         90.0,
         71.0,
         85.0,
         79.0,
         56.0,
         60.0,
         68.0,
         67.0,
         60.0,
         66.0,
         59.0,
         76.0,
         75.0,
         78.0,
         14.0,
         7.0,
         9.0,
         9.0,
         12.0
        ],
        [
         8,
         189615,
         155782,
         73.0,
         75.0,
         "left",
         "high",
         "medium",
         79.0,
         52.0,
         57.0,
         70.0,
         29.0,
         71.0,
         68.0,
         69.0,
         68.0,
         70.0,
         79.0,
         78.0,
         78.0,
         67.0,
         90.0,
         71.0,
         84.0,
         79.0,
         56.0,
         59.0,
         67.0,
         66.0,
         58.0,
         65.0,
         59.0,
         76.0,
         75.0,
         78.0,
         14.0,
         7.0,
         9.0,
         9.0,
         12.0
        ],
        [
         9,
         189615,
         155782,
         73.0,
         75.0,
         "left",
         "high",
         "medium",
         79.0,
         51.0,
         57.0,
         70.0,
         29.0,
         71.0,
         68.0,
         69.0,
         68.0,
         70.0,
         79.0,
         78.0,
         78.0,
         67.0,
         90.0,
         71.0,
         84.0,
         79.0,
         56.0,
         58.0,
         67.0,
         66.0,
         58.0,
         65.0,
         59.0,
         76.0,
         75.0,
         78.0,
         14.0,
         7.0,
         9.0,
         9.0,
         12.0
        ],
        [
         10,
         189615,
         155782,
         73.0,
         75.0,
         "left",
         "high",
         "medium",
         79.0,
         51.0,
         57.0,
         70.0,
         29.0,
         71.0,
         68.0,
         69.0,
         68.0,
         70.0,
         79.0,
         78.0,
         78.0,
         67.0,
         90.0,
         71.0,
         84.0,
         79.0,
         56.0,
         58.0,
         67.0,
         66.0,
         58.0,
         65.0,
         59.0,
         76.0,
         75.0,
         78.0,
         14.0,
         7.0,
         9.0,
         9.0,
         12.0
        ]
       ],
       "datasetInfos": [],
       "dbfsResultPath": null,
       "isJsonSchema": true,
       "metadata": {},
       "overflow": false,
       "plotOptions": {
        "customPlotOptions": {},
        "displayType": "table",
        "pivotAggregation": null,
        "pivotColumns": null,
        "xColumns": null,
        "yColumns": null
       },
       "removedWidgets": [],
       "schema": [
        {
         "metadata": "{}",
         "name": "id",
         "type": "\"integer\""
        },
        {
         "metadata": "{}",
         "name": "player_fifa_api_id",
         "type": "\"integer\""
        },
        {
         "metadata": "{}",
         "name": "player_api_id",
         "type": "\"integer\""
        },
        {
         "metadata": "{}",
         "name": "overall_rating",
         "type": "\"double\""
        },
        {
         "metadata": "{}",
         "name": "potential",
         "type": "\"double\""
        },
        {
         "metadata": "{}",
         "name": "preferred_foot",
         "type": "\"string\""
        },
        {
         "metadata": "{}",
         "name": "attacking_work_rate",
         "type": "\"string\""
        },
        {
         "metadata": "{}",
         "name": "defensive_work_rate",
         "type": "\"string\""
        },
        {
         "metadata": "{}",
         "name": "crossing",
         "type": "\"double\""
        },
        {
         "metadata": "{}",
         "name": "finishing",
         "type": "\"double\""
        },
        {
         "metadata": "{}",
         "name": "heading_accuracy",
         "type": "\"double\""
        },
        {
         "metadata": "{}",
         "name": "short_passing",
         "type": "\"double\""
        },
        {
         "metadata": "{}",
         "name": "volleys",
         "type": "\"double\""
        },
        {
         "metadata": "{}",
         "name": "dribbling",
         "type": "\"double\""
        },
        {
         "metadata": "{}",
         "name": "curve",
         "type": "\"double\""
        },
        {
         "metadata": "{}",
         "name": "free_kick_accuracy",
         "type": "\"double\""
        },
        {
         "metadata": "{}",
         "name": "long_passing",
         "type": "\"double\""
        },
        {
         "metadata": "{}",
         "name": "ball_control",
         "type": "\"double\""
        },
        {
         "metadata": "{}",
         "name": "acceleration",
         "type": "\"double\""
        },
        {
         "metadata": "{}",
         "name": "sprint_speed",
         "type": "\"double\""
        },
        {
         "metadata": "{}",
         "name": "agility",
         "type": "\"double\""
        },
        {
         "metadata": "{}",
         "name": "reactions",
         "type": "\"double\""
        },
        {
         "metadata": "{}",
         "name": "balance",
         "type": "\"double\""
        },
        {
         "metadata": "{}",
         "name": "shot_power",
         "type": "\"double\""
        },
        {
         "metadata": "{}",
         "name": "jumping",
         "type": "\"double\""
        },
        {
         "metadata": "{}",
         "name": "stamina",
         "type": "\"double\""
        },
        {
         "metadata": "{}",
         "name": "strength",
         "type": "\"double\""
        },
        {
         "metadata": "{}",
         "name": "long_shots",
         "type": "\"double\""
        },
        {
         "metadata": "{}",
         "name": "aggression",
         "type": "\"double\""
        },
        {
         "metadata": "{}",
         "name": "interceptions",
         "type": "\"double\""
        },
        {
         "metadata": "{}",
         "name": "positioning",
         "type": "\"double\""
        },
        {
         "metadata": "{}",
         "name": "vision",
         "type": "\"double\""
        },
        {
         "metadata": "{}",
         "name": "penalties",
         "type": "\"double\""
        },
        {
         "metadata": "{}",
         "name": "marking",
         "type": "\"double\""
        },
        {
         "metadata": "{}",
         "name": "standing_tackle",
         "type": "\"double\""
        },
        {
         "metadata": "{}",
         "name": "sliding_tackle",
         "type": "\"double\""
        },
        {
         "metadata": "{}",
         "name": "gk_diving",
         "type": "\"double\""
        },
        {
         "metadata": "{}",
         "name": "gk_handling",
         "type": "\"double\""
        },
        {
         "metadata": "{}",
         "name": "gk_kicking",
         "type": "\"double\""
        },
        {
         "metadata": "{}",
         "name": "gk_positioning",
         "type": "\"double\""
        },
        {
         "metadata": "{}",
         "name": "gk_reflexes",
         "type": "\"double\""
        }
       ],
       "type": "table"
      }
     },
     "output_type": "display_data"
    }
   ],
   "source": [
    "# Eliminamos la columna date\n",
    "if 'date' in futbol_pd.columns:\n",
    "    futbol_pd = futbol_pd.drop('date', axis=1)\n",
    "\n",
    "# Marcamos en un array los valores validos para `attacking` y `defensive`\n",
    "valid_attack_defense_values = ['high', 'medium', 'low']\n",
    "\n",
    "# Tomamos en cuenta las filas que contengan los valores validos de `attacking` y `defensive`\n",
    "futbol_pd = futbol_pd[(futbol_pd['attacking_work_rate'].isin(valid_attack_defense_values))]\n",
    "futbol_pd = futbol_pd[(futbol_pd['defensive_work_rate'].isin(valid_attack_defense_values))]\n",
    "display(futbol_pd.head(10))"
   ]
  },
  {
   "cell_type": "markdown",
   "metadata": {
    "application/vnd.databricks.v1+cell": {
     "cellMetadata": {
      "byteLimit": 2048000,
      "rowLimit": 10000
     },
     "inputWidgets": {},
     "nuid": "33b78b18-f1ca-41d8-a51d-0d2cd30af17d",
     "showTitle": false,
     "title": ""
    }
   },
   "source": [
    "Verificamos que los valores validos para `attacking` y `defensive` sean los asignados como validos.\n",
    ">\n",
    "# Datos despues de dejar las columnas que tengan los valores para `attacking` y `defensive`"
   ]
  },
  {
   "cell_type": "code",
   "execution_count": 0,
   "metadata": {
    "application/vnd.databricks.v1+cell": {
     "cellMetadata": {
      "byteLimit": 2048000,
      "rowLimit": 10000
     },
     "inputWidgets": {},
     "nuid": "312d1e66-c717-453c-a986-f3c90966fd66",
     "showTitle": false,
     "title": ""
    }
   },
   "outputs": [
    {
     "output_type": "stream",
     "name": "stdout",
     "output_type": "stream",
     "text": [
      "['medium' 'high' 'low']\n['medium' 'high' 'low']\nAntes: (183978, 42) vs Después: (176161, 41)\n"
     ]
    }
   ],
   "source": [
    "print(futbol_pd['attacking_work_rate'].unique())\n",
    "print(futbol_pd['defensive_work_rate'].unique())\n",
    "print(f'Antes: {futbol_shape} vs Después: {futbol_pd.shape}')"
   ]
  },
  {
   "cell_type": "markdown",
   "metadata": {
    "application/vnd.databricks.v1+cell": {
     "cellMetadata": {
      "byteLimit": 2048000,
      "rowLimit": 10000
     },
     "inputWidgets": {},
     "nuid": "6dcbcaa9-0a0c-4d7e-8d96-edde60e54ee9",
     "showTitle": false,
     "title": ""
    }
   },
   "source": [
    "Una ves hecha la eliminación de datos basura, decidimos utilizar one-hot para dividir en columnas a tipo numericas que son categoricas, en este caso por cada categorica en `defensive`, `attacking` y `preferred_foot` añadiremos columnas rellenando con 0 las que no corresponden y con 1 las que sí"
   ]
  },
  {
   "cell_type": "code",
   "execution_count": 0,
   "metadata": {
    "application/vnd.databricks.v1+cell": {
     "cellMetadata": {
      "byteLimit": 2048000,
      "rowLimit": 10000
     },
     "inputWidgets": {},
     "nuid": "90ed50a0-25eb-4ff6-957c-e6c69c0ace14",
     "showTitle": false,
     "title": ""
    }
   },
   "outputs": [
    {
     "output_type": "stream",
     "name": "stderr",
     "output_type": "stream",
     "text": [
      "/databricks/spark/python/pyspark/sql/pandas/conversion.py:467: UserWarning: createDataFrame attempted Arrow optimization because 'spark.sql.execution.arrow.pyspark.enabled' is set to true; however, failed by the reason below:\n  Unable to convert the field preferred_foot_left. If this column is not necessary, you may consider dropping it or converting to primitive type before the conversion.\nDirect cause: Unsupported type in conversion from Arrow: uint8\nAttempting non-optimization as 'spark.sql.execution.arrow.pyspark.fallback.enabled' is set to true.\n  warn(msg)\n"
     ]
    },
    {
     "output_type": "display_data",
     "data": {
      "text/html": [
       "<style scoped>\n",
       "  .table-result-container {\n",
       "    max-height: 300px;\n",
       "    overflow: auto;\n",
       "  }\n",
       "  table, th, td {\n",
       "    border: 1px solid black;\n",
       "    border-collapse: collapse;\n",
       "  }\n",
       "  th, td {\n",
       "    padding: 5px;\n",
       "  }\n",
       "  th {\n",
       "    text-align: left;\n",
       "  }\n",
       "</style><div class='table-result-container'><table class='table-result'><thead style='background-color: white'><tr><th>id</th><th>player_fifa_api_id</th><th>player_api_id</th><th>overall_rating</th><th>potential</th><th>crossing</th><th>finishing</th><th>heading_accuracy</th><th>short_passing</th><th>volleys</th><th>dribbling</th><th>curve</th><th>free_kick_accuracy</th><th>long_passing</th><th>ball_control</th><th>acceleration</th><th>sprint_speed</th><th>agility</th><th>reactions</th><th>balance</th><th>shot_power</th><th>jumping</th><th>stamina</th><th>strength</th><th>long_shots</th><th>aggression</th><th>interceptions</th><th>positioning</th><th>vision</th><th>penalties</th><th>marking</th><th>standing_tackle</th><th>sliding_tackle</th><th>gk_diving</th><th>gk_handling</th><th>gk_kicking</th><th>gk_positioning</th><th>gk_reflexes</th><th>preferred_foot_left</th><th>preferred_foot_right</th><th>attacking_work_rate_high</th><th>attacking_work_rate_low</th><th>attacking_work_rate_medium</th><th>defensive_work_rate_high</th><th>defensive_work_rate_low</th><th>defensive_work_rate_medium</th></tr></thead><tbody><tr><td>1</td><td>218353</td><td>505942</td><td>67.0</td><td>71.0</td><td>49.0</td><td>44.0</td><td>71.0</td><td>61.0</td><td>44.0</td><td>51.0</td><td>45.0</td><td>39.0</td><td>64.0</td><td>49.0</td><td>60.0</td><td>64.0</td><td>59.0</td><td>47.0</td><td>65.0</td><td>55.0</td><td>58.0</td><td>54.0</td><td>76.0</td><td>35.0</td><td>71.0</td><td>70.0</td><td>45.0</td><td>54.0</td><td>48.0</td><td>65.0</td><td>69.0</td><td>69.0</td><td>6.0</td><td>11.0</td><td>10.0</td><td>8.0</td><td>8.0</td><td>0</td><td>1</td><td>0</td><td>0</td><td>1</td><td>0</td><td>0</td><td>1</td></tr><tr><td>2</td><td>218353</td><td>505942</td><td>67.0</td><td>71.0</td><td>49.0</td><td>44.0</td><td>71.0</td><td>61.0</td><td>44.0</td><td>51.0</td><td>45.0</td><td>39.0</td><td>64.0</td><td>49.0</td><td>60.0</td><td>64.0</td><td>59.0</td><td>47.0</td><td>65.0</td><td>55.0</td><td>58.0</td><td>54.0</td><td>76.0</td><td>35.0</td><td>71.0</td><td>70.0</td><td>45.0</td><td>54.0</td><td>48.0</td><td>65.0</td><td>69.0</td><td>69.0</td><td>6.0</td><td>11.0</td><td>10.0</td><td>8.0</td><td>8.0</td><td>0</td><td>1</td><td>0</td><td>0</td><td>1</td><td>0</td><td>0</td><td>1</td></tr><tr><td>3</td><td>218353</td><td>505942</td><td>62.0</td><td>66.0</td><td>49.0</td><td>44.0</td><td>71.0</td><td>61.0</td><td>44.0</td><td>51.0</td><td>45.0</td><td>39.0</td><td>64.0</td><td>49.0</td><td>60.0</td><td>64.0</td><td>59.0</td><td>47.0</td><td>65.0</td><td>55.0</td><td>58.0</td><td>54.0</td><td>76.0</td><td>35.0</td><td>63.0</td><td>41.0</td><td>45.0</td><td>54.0</td><td>48.0</td><td>65.0</td><td>66.0</td><td>69.0</td><td>6.0</td><td>11.0</td><td>10.0</td><td>8.0</td><td>8.0</td><td>0</td><td>1</td><td>0</td><td>0</td><td>1</td><td>0</td><td>0</td><td>1</td></tr><tr><td>4</td><td>218353</td><td>505942</td><td>61.0</td><td>65.0</td><td>48.0</td><td>43.0</td><td>70.0</td><td>60.0</td><td>43.0</td><td>50.0</td><td>44.0</td><td>38.0</td><td>63.0</td><td>48.0</td><td>60.0</td><td>64.0</td><td>59.0</td><td>46.0</td><td>65.0</td><td>54.0</td><td>58.0</td><td>54.0</td><td>76.0</td><td>34.0</td><td>62.0</td><td>40.0</td><td>44.0</td><td>53.0</td><td>47.0</td><td>62.0</td><td>63.0</td><td>66.0</td><td>5.0</td><td>10.0</td><td>9.0</td><td>7.0</td><td>7.0</td><td>0</td><td>1</td><td>0</td><td>0</td><td>1</td><td>0</td><td>0</td><td>1</td></tr><tr><td>5</td><td>218353</td><td>505942</td><td>61.0</td><td>65.0</td><td>48.0</td><td>43.0</td><td>70.0</td><td>60.0</td><td>43.0</td><td>50.0</td><td>44.0</td><td>38.0</td><td>63.0</td><td>48.0</td><td>60.0</td><td>64.0</td><td>59.0</td><td>46.0</td><td>65.0</td><td>54.0</td><td>58.0</td><td>54.0</td><td>76.0</td><td>34.0</td><td>62.0</td><td>40.0</td><td>44.0</td><td>53.0</td><td>47.0</td><td>62.0</td><td>63.0</td><td>66.0</td><td>5.0</td><td>10.0</td><td>9.0</td><td>7.0</td><td>7.0</td><td>0</td><td>1</td><td>0</td><td>0</td><td>1</td><td>0</td><td>0</td><td>1</td></tr><tr><td>6</td><td>189615</td><td>155782</td><td>74.0</td><td>76.0</td><td>80.0</td><td>53.0</td><td>58.0</td><td>71.0</td><td>40.0</td><td>73.0</td><td>70.0</td><td>69.0</td><td>68.0</td><td>71.0</td><td>79.0</td><td>78.0</td><td>78.0</td><td>67.0</td><td>90.0</td><td>71.0</td><td>85.0</td><td>79.0</td><td>56.0</td><td>62.0</td><td>68.0</td><td>67.0</td><td>60.0</td><td>66.0</td><td>59.0</td><td>76.0</td><td>75.0</td><td>78.0</td><td>14.0</td><td>7.0</td><td>9.0</td><td>9.0</td><td>12.0</td><td>1</td><td>0</td><td>1</td><td>0</td><td>0</td><td>0</td><td>0</td><td>1</td></tr><tr><td>7</td><td>189615</td><td>155782</td><td>74.0</td><td>76.0</td><td>80.0</td><td>53.0</td><td>58.0</td><td>71.0</td><td>32.0</td><td>73.0</td><td>70.0</td><td>69.0</td><td>68.0</td><td>71.0</td><td>79.0</td><td>78.0</td><td>78.0</td><td>67.0</td><td>90.0</td><td>71.0</td><td>85.0</td><td>79.0</td><td>56.0</td><td>60.0</td><td>68.0</td><td>67.0</td><td>60.0</td><td>66.0</td><td>59.0</td><td>76.0</td><td>75.0</td><td>78.0</td><td>14.0</td><td>7.0</td><td>9.0</td><td>9.0</td><td>12.0</td><td>1</td><td>0</td><td>1</td><td>0</td><td>0</td><td>0</td><td>0</td><td>1</td></tr><tr><td>8</td><td>189615</td><td>155782</td><td>73.0</td><td>75.0</td><td>79.0</td><td>52.0</td><td>57.0</td><td>70.0</td><td>29.0</td><td>71.0</td><td>68.0</td><td>69.0</td><td>68.0</td><td>70.0</td><td>79.0</td><td>78.0</td><td>78.0</td><td>67.0</td><td>90.0</td><td>71.0</td><td>84.0</td><td>79.0</td><td>56.0</td><td>59.0</td><td>67.0</td><td>66.0</td><td>58.0</td><td>65.0</td><td>59.0</td><td>76.0</td><td>75.0</td><td>78.0</td><td>14.0</td><td>7.0</td><td>9.0</td><td>9.0</td><td>12.0</td><td>1</td><td>0</td><td>1</td><td>0</td><td>0</td><td>0</td><td>0</td><td>1</td></tr><tr><td>9</td><td>189615</td><td>155782</td><td>73.0</td><td>75.0</td><td>79.0</td><td>51.0</td><td>57.0</td><td>70.0</td><td>29.0</td><td>71.0</td><td>68.0</td><td>69.0</td><td>68.0</td><td>70.0</td><td>79.0</td><td>78.0</td><td>78.0</td><td>67.0</td><td>90.0</td><td>71.0</td><td>84.0</td><td>79.0</td><td>56.0</td><td>58.0</td><td>67.0</td><td>66.0</td><td>58.0</td><td>65.0</td><td>59.0</td><td>76.0</td><td>75.0</td><td>78.0</td><td>14.0</td><td>7.0</td><td>9.0</td><td>9.0</td><td>12.0</td><td>1</td><td>0</td><td>1</td><td>0</td><td>0</td><td>0</td><td>0</td><td>1</td></tr><tr><td>10</td><td>189615</td><td>155782</td><td>73.0</td><td>75.0</td><td>79.0</td><td>51.0</td><td>57.0</td><td>70.0</td><td>29.0</td><td>71.0</td><td>68.0</td><td>69.0</td><td>68.0</td><td>70.0</td><td>79.0</td><td>78.0</td><td>78.0</td><td>67.0</td><td>90.0</td><td>71.0</td><td>84.0</td><td>79.0</td><td>56.0</td><td>58.0</td><td>67.0</td><td>66.0</td><td>58.0</td><td>65.0</td><td>59.0</td><td>76.0</td><td>75.0</td><td>78.0</td><td>14.0</td><td>7.0</td><td>9.0</td><td>9.0</td><td>12.0</td><td>1</td><td>0</td><td>1</td><td>0</td><td>0</td><td>0</td><td>0</td><td>1</td></tr></tbody></table></div>"
      ]
     },
     "metadata": {
      "application/vnd.databricks.v1+output": {
       "addedWidgets": {},
       "aggData": [],
       "aggError": "",
       "aggOverflow": false,
       "aggSchema": [],
       "aggSeriesLimitReached": false,
       "aggType": "",
       "arguments": {},
       "columnCustomDisplayInfos": {},
       "data": [
        [
         1,
         218353,
         505942,
         67.0,
         71.0,
         49.0,
         44.0,
         71.0,
         61.0,
         44.0,
         51.0,
         45.0,
         39.0,
         64.0,
         49.0,
         60.0,
         64.0,
         59.0,
         47.0,
         65.0,
         55.0,
         58.0,
         54.0,
         76.0,
         35.0,
         71.0,
         70.0,
         45.0,
         54.0,
         48.0,
         65.0,
         69.0,
         69.0,
         6.0,
         11.0,
         10.0,
         8.0,
         8.0,
         0,
         1,
         0,
         0,
         1,
         0,
         0,
         1
        ],
        [
         2,
         218353,
         505942,
         67.0,
         71.0,
         49.0,
         44.0,
         71.0,
         61.0,
         44.0,
         51.0,
         45.0,
         39.0,
         64.0,
         49.0,
         60.0,
         64.0,
         59.0,
         47.0,
         65.0,
         55.0,
         58.0,
         54.0,
         76.0,
         35.0,
         71.0,
         70.0,
         45.0,
         54.0,
         48.0,
         65.0,
         69.0,
         69.0,
         6.0,
         11.0,
         10.0,
         8.0,
         8.0,
         0,
         1,
         0,
         0,
         1,
         0,
         0,
         1
        ],
        [
         3,
         218353,
         505942,
         62.0,
         66.0,
         49.0,
         44.0,
         71.0,
         61.0,
         44.0,
         51.0,
         45.0,
         39.0,
         64.0,
         49.0,
         60.0,
         64.0,
         59.0,
         47.0,
         65.0,
         55.0,
         58.0,
         54.0,
         76.0,
         35.0,
         63.0,
         41.0,
         45.0,
         54.0,
         48.0,
         65.0,
         66.0,
         69.0,
         6.0,
         11.0,
         10.0,
         8.0,
         8.0,
         0,
         1,
         0,
         0,
         1,
         0,
         0,
         1
        ],
        [
         4,
         218353,
         505942,
         61.0,
         65.0,
         48.0,
         43.0,
         70.0,
         60.0,
         43.0,
         50.0,
         44.0,
         38.0,
         63.0,
         48.0,
         60.0,
         64.0,
         59.0,
         46.0,
         65.0,
         54.0,
         58.0,
         54.0,
         76.0,
         34.0,
         62.0,
         40.0,
         44.0,
         53.0,
         47.0,
         62.0,
         63.0,
         66.0,
         5.0,
         10.0,
         9.0,
         7.0,
         7.0,
         0,
         1,
         0,
         0,
         1,
         0,
         0,
         1
        ],
        [
         5,
         218353,
         505942,
         61.0,
         65.0,
         48.0,
         43.0,
         70.0,
         60.0,
         43.0,
         50.0,
         44.0,
         38.0,
         63.0,
         48.0,
         60.0,
         64.0,
         59.0,
         46.0,
         65.0,
         54.0,
         58.0,
         54.0,
         76.0,
         34.0,
         62.0,
         40.0,
         44.0,
         53.0,
         47.0,
         62.0,
         63.0,
         66.0,
         5.0,
         10.0,
         9.0,
         7.0,
         7.0,
         0,
         1,
         0,
         0,
         1,
         0,
         0,
         1
        ],
        [
         6,
         189615,
         155782,
         74.0,
         76.0,
         80.0,
         53.0,
         58.0,
         71.0,
         40.0,
         73.0,
         70.0,
         69.0,
         68.0,
         71.0,
         79.0,
         78.0,
         78.0,
         67.0,
         90.0,
         71.0,
         85.0,
         79.0,
         56.0,
         62.0,
         68.0,
         67.0,
         60.0,
         66.0,
         59.0,
         76.0,
         75.0,
         78.0,
         14.0,
         7.0,
         9.0,
         9.0,
         12.0,
         1,
         0,
         1,
         0,
         0,
         0,
         0,
         1
        ],
        [
         7,
         189615,
         155782,
         74.0,
         76.0,
         80.0,
         53.0,
         58.0,
         71.0,
         32.0,
         73.0,
         70.0,
         69.0,
         68.0,
         71.0,
         79.0,
         78.0,
         78.0,
         67.0,
         90.0,
         71.0,
         85.0,
         79.0,
         56.0,
         60.0,
         68.0,
         67.0,
         60.0,
         66.0,
         59.0,
         76.0,
         75.0,
         78.0,
         14.0,
         7.0,
         9.0,
         9.0,
         12.0,
         1,
         0,
         1,
         0,
         0,
         0,
         0,
         1
        ],
        [
         8,
         189615,
         155782,
         73.0,
         75.0,
         79.0,
         52.0,
         57.0,
         70.0,
         29.0,
         71.0,
         68.0,
         69.0,
         68.0,
         70.0,
         79.0,
         78.0,
         78.0,
         67.0,
         90.0,
         71.0,
         84.0,
         79.0,
         56.0,
         59.0,
         67.0,
         66.0,
         58.0,
         65.0,
         59.0,
         76.0,
         75.0,
         78.0,
         14.0,
         7.0,
         9.0,
         9.0,
         12.0,
         1,
         0,
         1,
         0,
         0,
         0,
         0,
         1
        ],
        [
         9,
         189615,
         155782,
         73.0,
         75.0,
         79.0,
         51.0,
         57.0,
         70.0,
         29.0,
         71.0,
         68.0,
         69.0,
         68.0,
         70.0,
         79.0,
         78.0,
         78.0,
         67.0,
         90.0,
         71.0,
         84.0,
         79.0,
         56.0,
         58.0,
         67.0,
         66.0,
         58.0,
         65.0,
         59.0,
         76.0,
         75.0,
         78.0,
         14.0,
         7.0,
         9.0,
         9.0,
         12.0,
         1,
         0,
         1,
         0,
         0,
         0,
         0,
         1
        ],
        [
         10,
         189615,
         155782,
         73.0,
         75.0,
         79.0,
         51.0,
         57.0,
         70.0,
         29.0,
         71.0,
         68.0,
         69.0,
         68.0,
         70.0,
         79.0,
         78.0,
         78.0,
         67.0,
         90.0,
         71.0,
         84.0,
         79.0,
         56.0,
         58.0,
         67.0,
         66.0,
         58.0,
         65.0,
         59.0,
         76.0,
         75.0,
         78.0,
         14.0,
         7.0,
         9.0,
         9.0,
         12.0,
         1,
         0,
         1,
         0,
         0,
         0,
         0,
         1
        ]
       ],
       "datasetInfos": [],
       "dbfsResultPath": null,
       "isJsonSchema": true,
       "metadata": {},
       "overflow": false,
       "plotOptions": {
        "customPlotOptions": {},
        "displayType": "table",
        "pivotAggregation": null,
        "pivotColumns": null,
        "xColumns": null,
        "yColumns": null
       },
       "removedWidgets": [],
       "schema": [
        {
         "metadata": "{}",
         "name": "id",
         "type": "\"long\""
        },
        {
         "metadata": "{}",
         "name": "player_fifa_api_id",
         "type": "\"long\""
        },
        {
         "metadata": "{}",
         "name": "player_api_id",
         "type": "\"long\""
        },
        {
         "metadata": "{}",
         "name": "overall_rating",
         "type": "\"double\""
        },
        {
         "metadata": "{}",
         "name": "potential",
         "type": "\"double\""
        },
        {
         "metadata": "{}",
         "name": "crossing",
         "type": "\"double\""
        },
        {
         "metadata": "{}",
         "name": "finishing",
         "type": "\"double\""
        },
        {
         "metadata": "{}",
         "name": "heading_accuracy",
         "type": "\"double\""
        },
        {
         "metadata": "{}",
         "name": "short_passing",
         "type": "\"double\""
        },
        {
         "metadata": "{}",
         "name": "volleys",
         "type": "\"double\""
        },
        {
         "metadata": "{}",
         "name": "dribbling",
         "type": "\"double\""
        },
        {
         "metadata": "{}",
         "name": "curve",
         "type": "\"double\""
        },
        {
         "metadata": "{}",
         "name": "free_kick_accuracy",
         "type": "\"double\""
        },
        {
         "metadata": "{}",
         "name": "long_passing",
         "type": "\"double\""
        },
        {
         "metadata": "{}",
         "name": "ball_control",
         "type": "\"double\""
        },
        {
         "metadata": "{}",
         "name": "acceleration",
         "type": "\"double\""
        },
        {
         "metadata": "{}",
         "name": "sprint_speed",
         "type": "\"double\""
        },
        {
         "metadata": "{}",
         "name": "agility",
         "type": "\"double\""
        },
        {
         "metadata": "{}",
         "name": "reactions",
         "type": "\"double\""
        },
        {
         "metadata": "{}",
         "name": "balance",
         "type": "\"double\""
        },
        {
         "metadata": "{}",
         "name": "shot_power",
         "type": "\"double\""
        },
        {
         "metadata": "{}",
         "name": "jumping",
         "type": "\"double\""
        },
        {
         "metadata": "{}",
         "name": "stamina",
         "type": "\"double\""
        },
        {
         "metadata": "{}",
         "name": "strength",
         "type": "\"double\""
        },
        {
         "metadata": "{}",
         "name": "long_shots",
         "type": "\"double\""
        },
        {
         "metadata": "{}",
         "name": "aggression",
         "type": "\"double\""
        },
        {
         "metadata": "{}",
         "name": "interceptions",
         "type": "\"double\""
        },
        {
         "metadata": "{}",
         "name": "positioning",
         "type": "\"double\""
        },
        {
         "metadata": "{}",
         "name": "vision",
         "type": "\"double\""
        },
        {
         "metadata": "{}",
         "name": "penalties",
         "type": "\"double\""
        },
        {
         "metadata": "{}",
         "name": "marking",
         "type": "\"double\""
        },
        {
         "metadata": "{}",
         "name": "standing_tackle",
         "type": "\"double\""
        },
        {
         "metadata": "{}",
         "name": "sliding_tackle",
         "type": "\"double\""
        },
        {
         "metadata": "{}",
         "name": "gk_diving",
         "type": "\"double\""
        },
        {
         "metadata": "{}",
         "name": "gk_handling",
         "type": "\"double\""
        },
        {
         "metadata": "{}",
         "name": "gk_kicking",
         "type": "\"double\""
        },
        {
         "metadata": "{}",
         "name": "gk_positioning",
         "type": "\"double\""
        },
        {
         "metadata": "{}",
         "name": "gk_reflexes",
         "type": "\"double\""
        },
        {
         "metadata": "{}",
         "name": "preferred_foot_left",
         "type": "\"long\""
        },
        {
         "metadata": "{}",
         "name": "preferred_foot_right",
         "type": "\"long\""
        },
        {
         "metadata": "{}",
         "name": "attacking_work_rate_high",
         "type": "\"long\""
        },
        {
         "metadata": "{}",
         "name": "attacking_work_rate_low",
         "type": "\"long\""
        },
        {
         "metadata": "{}",
         "name": "attacking_work_rate_medium",
         "type": "\"long\""
        },
        {
         "metadata": "{}",
         "name": "defensive_work_rate_high",
         "type": "\"long\""
        },
        {
         "metadata": "{}",
         "name": "defensive_work_rate_low",
         "type": "\"long\""
        },
        {
         "metadata": "{}",
         "name": "defensive_work_rate_medium",
         "type": "\"long\""
        }
       ],
       "type": "table"
      }
     },
     "output_type": "display_data"
    }
   ],
   "source": [
    "# Realizando one-hot-encoding de las columnas categóricas\n",
    "futbol_pd = pd.get_dummies(futbol_pd, columns=['preferred_foot', 'attacking_work_rate', 'defensive_work_rate'])\n",
    "display(futbol_pd.head(10))"
   ]
  },
  {
   "cell_type": "markdown",
   "metadata": {
    "application/vnd.databricks.v1+cell": {
     "cellMetadata": {
      "byteLimit": 2048000,
      "rowLimit": 10000
     },
     "inputWidgets": {},
     "nuid": "0332bad1-e522-4d7d-a090-2ef2514a3ef7",
     "showTitle": false,
     "title": ""
    }
   },
   "source": [
    "Una ves convertidas las variables categoricas a numericas, es hora de verificar la correlacion respecto a Penalties utilizando Pearson"
   ]
  },
  {
   "cell_type": "code",
   "execution_count": 0,
   "metadata": {
    "application/vnd.databricks.v1+cell": {
     "cellMetadata": {
      "byteLimit": 2048000,
      "rowLimit": 10000
     },
     "inputWidgets": {},
     "nuid": "ae1953e8-d197-498a-9f03-4106e8c1fccd",
     "showTitle": false,
     "title": ""
    }
   },
   "outputs": [
    {
     "output_type": "stream",
     "name": "stdout",
     "output_type": "stream",
     "text": [
      "id: 0\nplayer_fifa_api_id: 0\nplayer_api_id: 0\noverall_rating: 0\npotential: 0\ncrossing: 0\nfinishing: 0\nheading_accuracy: 0\nshort_passing: 0\nvolleys: 0\ndribbling: 0\ncurve: 0\nfree_kick_accuracy: 0\nlong_passing: 0\nball_control: 0\nacceleration: 0\nsprint_speed: 0\nagility: 0\nreactions: 0\nbalance: 0\nshot_power: 0\njumping: 0\nstamina: 0\nstrength: 0\nlong_shots: 0\naggression: 0\ninterceptions: 0\npositioning: 0\nvision: 0\npenalties: 0\nmarking: 0\nstanding_tackle: 0\nsliding_tackle: 0\ngk_diving: 0\ngk_handling: 0\ngk_kicking: 0\ngk_positioning: 0\ngk_reflexes: 0\npreferred_foot_left: 133102\npreferred_foot_right: 43059\nattacking_work_rate_high: 133410\nattacking_work_rate_low: 167622\nattacking_work_rate_medium: 51290\ndefensive_work_rate_high: 149189\ndefensive_work_rate_low: 157736\ndefensive_work_rate_medium: 45397\n"
     ]
    }
   ],
   "source": [
    "# No es necesario eliminar los valores con 0, aunque haremos la verificación para entender los datos:\n",
    "def print_zeros_values(data_frame):\n",
    "    for column in data_frame.columns:\n",
    "        print (f'{column}: {sum(data_frame[column] == 0)}')\n",
    "\n",
    "print_zeros_values(futbol_pd)"
   ]
  },
  {
   "cell_type": "markdown",
   "metadata": {
    "application/vnd.databricks.v1+cell": {
     "cellMetadata": {
      "byteLimit": 2048000,
      "rowLimit": 10000
     },
     "inputWidgets": {},
     "nuid": "988f38ec-ebdf-4315-bd03-b2478a7e4454",
     "showTitle": false,
     "title": ""
    }
   },
   "source": [
    "\n",
    "No existen valores con 0 en columnas anteriormente de tipo númericas, a excepción donde utilizamos one-hot para las columnas categoricas donde es normal existan valores con 0.\n",
    ">\n",
    "Teniendo en cuenta que tenemos 46 parametros despues de utilizar one-hot y dejar todos los datos a valores numericos, procederemos a quitar todas aquellos parametros que no tengan una correlacion moderada para arriba, siguiendo la siguiente tabla como referencia:\n",
    "\n",
    "| Valor absoluto de $r$ | Fuerza de la relación |\n",
    "|-----------------------|-----------------------|\n",
    "| $$ r <0,25 $$           | Sin relación          |\n",
    "| $$ 0,25 <r <0,5 $$      | Relación débil        |\n",
    "| $$ 0,5 <r <0,75 $$      | Relación moderada     |\n",
    "| $$ r> 0,75 $$           | Relación fuerte       |\n",
    "\n",
    "Fuente: [Statologos. (2021). ¿Qué se considera una correlación «débil»? Statologos.](https://statologos.com/que-es-una-correlacion-debil/#google_vignette)\n",
    "\n",
    "De esta manera verificamos las correlaciones en base al valor que se busca predecir `penalties`:"
   ]
  },
  {
   "cell_type": "code",
   "execution_count": 0,
   "metadata": {
    "application/vnd.databricks.v1+cell": {
     "cellMetadata": {
      "byteLimit": 2048000,
      "rowLimit": 10000
     },
     "inputWidgets": {},
     "nuid": "8fbc7e60-807d-4e14-b619-7e280bcade92",
     "showTitle": false,
     "title": ""
    }
   },
   "outputs": [
    {
     "output_type": "stream",
     "name": "stdout",
     "output_type": "stream",
     "text": [
      "penalties             1.000000\npositioning           0.754793\nfinishing             0.728901\nlong_shots            0.716380\nvolleys               0.715863\nball_control          0.685799\nshot_power            0.682513\nfree_kick_accuracy    0.670293\nvision                0.666163\ndribbling             0.665066\ncurve                 0.651492\nName: penalties, dtype: float64"
     ]
    }
   ],
   "source": [
    "# Tomamos en cuenta las columnas que tienen una correlacion moderado con respecto a `penalties`, escogeremos las primeras 10 relevantes arriba de 0.5\n",
    "correlation_penalties = futbol_pd.corr(method='pearson')['penalties']\n",
    "\n",
    "# Moviendo los datos de correlación en forma ascendente\n",
    "correlation_penalties = correlation_penalties[np.argsort(correlation_penalties, axis=0)[::-1]]\n",
    "\n",
    "# Mostramos las 11 primeras correlaciones\n",
    "display(correlation_penalties.head(11))"
   ]
  },
  {
   "cell_type": "markdown",
   "metadata": {
    "application/vnd.databricks.v1+cell": {
     "cellMetadata": {
      "byteLimit": 2048000,
      "rowLimit": 10000
     },
     "inputWidgets": {},
     "nuid": "7c8a661a-2322-4f0d-82b4-3465fab85d61",
     "showTitle": false,
     "title": ""
    }
   },
   "source": [
    "En caso de no tener más de 10 parámetros relevantes podríamos haber eliminado datos atípicios para verificar si la correlación mejoraba"
   ]
  },
  {
   "cell_type": "code",
   "execution_count": 0,
   "metadata": {
    "application/vnd.databricks.v1+cell": {
     "cellMetadata": {
      "byteLimit": 2048000,
      "rowLimit": 10000
     },
     "inputWidgets": {},
     "nuid": "cfd30c42-c745-4393-b6dd-ac7f7188f5bf",
     "showTitle": false,
     "title": ""
    }
   },
   "outputs": [
    {
     "output_type": "display_data",
     "data": {
      "text/html": [
       "<style scoped>\n",
       "  .table-result-container {\n",
       "    max-height: 300px;\n",
       "    overflow: auto;\n",
       "  }\n",
       "  table, th, td {\n",
       "    border: 1px solid black;\n",
       "    border-collapse: collapse;\n",
       "  }\n",
       "  th, td {\n",
       "    padding: 5px;\n",
       "  }\n",
       "  th {\n",
       "    text-align: left;\n",
       "  }\n",
       "</style><div class='table-result-container'><table class='table-result'><thead style='background-color: white'><tr><th>penalties</th><th>positioning</th><th>finishing</th><th>long_shots</th><th>volleys</th><th>ball_control</th><th>shot_power</th><th>free_kick_accuracy</th><th>vision</th><th>dribbling</th><th>curve</th></tr></thead><tbody><tr><td>48.0</td><td>45.0</td><td>44.0</td><td>35.0</td><td>44.0</td><td>49.0</td><td>55.0</td><td>39.0</td><td>54.0</td><td>51.0</td><td>45.0</td></tr><tr><td>48.0</td><td>45.0</td><td>44.0</td><td>35.0</td><td>44.0</td><td>49.0</td><td>55.0</td><td>39.0</td><td>54.0</td><td>51.0</td><td>45.0</td></tr><tr><td>48.0</td><td>45.0</td><td>44.0</td><td>35.0</td><td>44.0</td><td>49.0</td><td>55.0</td><td>39.0</td><td>54.0</td><td>51.0</td><td>45.0</td></tr><tr><td>47.0</td><td>44.0</td><td>43.0</td><td>34.0</td><td>43.0</td><td>48.0</td><td>54.0</td><td>38.0</td><td>53.0</td><td>50.0</td><td>44.0</td></tr><tr><td>47.0</td><td>44.0</td><td>43.0</td><td>34.0</td><td>43.0</td><td>48.0</td><td>54.0</td><td>38.0</td><td>53.0</td><td>50.0</td><td>44.0</td></tr><tr><td>59.0</td><td>60.0</td><td>53.0</td><td>62.0</td><td>40.0</td><td>71.0</td><td>71.0</td><td>69.0</td><td>66.0</td><td>73.0</td><td>70.0</td></tr><tr><td>59.0</td><td>60.0</td><td>53.0</td><td>60.0</td><td>32.0</td><td>71.0</td><td>71.0</td><td>69.0</td><td>66.0</td><td>73.0</td><td>70.0</td></tr><tr><td>59.0</td><td>58.0</td><td>52.0</td><td>59.0</td><td>29.0</td><td>70.0</td><td>71.0</td><td>69.0</td><td>65.0</td><td>71.0</td><td>68.0</td></tr><tr><td>59.0</td><td>58.0</td><td>51.0</td><td>58.0</td><td>29.0</td><td>70.0</td><td>71.0</td><td>69.0</td><td>65.0</td><td>71.0</td><td>68.0</td></tr><tr><td>59.0</td><td>58.0</td><td>51.0</td><td>58.0</td><td>29.0</td><td>70.0</td><td>71.0</td><td>69.0</td><td>65.0</td><td>71.0</td><td>68.0</td></tr></tbody></table></div>"
      ]
     },
     "metadata": {
      "application/vnd.databricks.v1+output": {
       "addedWidgets": {},
       "aggData": [],
       "aggError": "",
       "aggOverflow": false,
       "aggSchema": [],
       "aggSeriesLimitReached": false,
       "aggType": "",
       "arguments": {},
       "columnCustomDisplayInfos": {},
       "data": [
        [
         48.0,
         45.0,
         44.0,
         35.0,
         44.0,
         49.0,
         55.0,
         39.0,
         54.0,
         51.0,
         45.0
        ],
        [
         48.0,
         45.0,
         44.0,
         35.0,
         44.0,
         49.0,
         55.0,
         39.0,
         54.0,
         51.0,
         45.0
        ],
        [
         48.0,
         45.0,
         44.0,
         35.0,
         44.0,
         49.0,
         55.0,
         39.0,
         54.0,
         51.0,
         45.0
        ],
        [
         47.0,
         44.0,
         43.0,
         34.0,
         43.0,
         48.0,
         54.0,
         38.0,
         53.0,
         50.0,
         44.0
        ],
        [
         47.0,
         44.0,
         43.0,
         34.0,
         43.0,
         48.0,
         54.0,
         38.0,
         53.0,
         50.0,
         44.0
        ],
        [
         59.0,
         60.0,
         53.0,
         62.0,
         40.0,
         71.0,
         71.0,
         69.0,
         66.0,
         73.0,
         70.0
        ],
        [
         59.0,
         60.0,
         53.0,
         60.0,
         32.0,
         71.0,
         71.0,
         69.0,
         66.0,
         73.0,
         70.0
        ],
        [
         59.0,
         58.0,
         52.0,
         59.0,
         29.0,
         70.0,
         71.0,
         69.0,
         65.0,
         71.0,
         68.0
        ],
        [
         59.0,
         58.0,
         51.0,
         58.0,
         29.0,
         70.0,
         71.0,
         69.0,
         65.0,
         71.0,
         68.0
        ],
        [
         59.0,
         58.0,
         51.0,
         58.0,
         29.0,
         70.0,
         71.0,
         69.0,
         65.0,
         71.0,
         68.0
        ]
       ],
       "datasetInfos": [],
       "dbfsResultPath": null,
       "isJsonSchema": true,
       "metadata": {},
       "overflow": false,
       "plotOptions": {
        "customPlotOptions": {},
        "displayType": "table",
        "pivotAggregation": null,
        "pivotColumns": null,
        "xColumns": null,
        "yColumns": null
       },
       "removedWidgets": [],
       "schema": [
        {
         "metadata": "{}",
         "name": "penalties",
         "type": "\"double\""
        },
        {
         "metadata": "{}",
         "name": "positioning",
         "type": "\"double\""
        },
        {
         "metadata": "{}",
         "name": "finishing",
         "type": "\"double\""
        },
        {
         "metadata": "{}",
         "name": "long_shots",
         "type": "\"double\""
        },
        {
         "metadata": "{}",
         "name": "volleys",
         "type": "\"double\""
        },
        {
         "metadata": "{}",
         "name": "ball_control",
         "type": "\"double\""
        },
        {
         "metadata": "{}",
         "name": "shot_power",
         "type": "\"double\""
        },
        {
         "metadata": "{}",
         "name": "free_kick_accuracy",
         "type": "\"double\""
        },
        {
         "metadata": "{}",
         "name": "vision",
         "type": "\"double\""
        },
        {
         "metadata": "{}",
         "name": "dribbling",
         "type": "\"double\""
        },
        {
         "metadata": "{}",
         "name": "curve",
         "type": "\"double\""
        }
       ],
       "type": "table"
      }
     },
     "output_type": "display_data"
    }
   ],
   "source": [
    "futbol_pd_top_10 = futbol_pd[correlation_penalties.sort_values(ascending=False).head(11).keys()]\n",
    "display(futbol_pd_top_10.head(10))"
   ]
  },
  {
   "cell_type": "code",
   "execution_count": 0,
   "metadata": {
    "application/vnd.databricks.v1+cell": {
     "cellMetadata": {
      "byteLimit": 2048000,
      "rowLimit": 10000
     },
     "inputWidgets": {},
     "nuid": "9eb61c1d-32ed-4900-a27c-728a4cee9f06",
     "showTitle": false,
     "title": ""
    }
   },
   "outputs": [
    {
     "output_type": "stream",
     "name": "stdout",
     "output_type": "stream",
     "text": [
      "Antes: (183978, 42) vs Después: (176161, 11)\n"
     ]
    }
   ],
   "source": [
    "print(f'Antes: {futbol_shape} vs Después: {futbol_pd_top_10.shape}')"
   ]
  },
  {
   "cell_type": "markdown",
   "metadata": {
    "application/vnd.databricks.v1+cell": {
     "cellMetadata": {
      "byteLimit": 2048000,
      "rowLimit": 10000
     },
     "inputWidgets": {},
     "nuid": "8c85597e-8996-4612-a946-c7e94f076e35",
     "showTitle": false,
     "title": ""
    }
   },
   "source": [
    "Una ves hecha la limpieza definitiva de los datos, necesitamos normalizar nuestro dataset, para esto usaremos la libreria `StandardScaler` de sklearn"
   ]
  },
  {
   "cell_type": "code",
   "execution_count": 0,
   "metadata": {
    "application/vnd.databricks.v1+cell": {
     "cellMetadata": {
      "byteLimit": 2048000,
      "rowLimit": 10000
     },
     "inputWidgets": {},
     "nuid": "30c797c0-e432-48d8-861c-b68a61e2515b",
     "showTitle": false,
     "title": ""
    }
   },
   "outputs": [
    {
     "output_type": "display_data",
     "data": {
      "text/html": [
       "<style scoped>\n",
       "  .table-result-container {\n",
       "    max-height: 300px;\n",
       "    overflow: auto;\n",
       "  }\n",
       "  table, th, td {\n",
       "    border: 1px solid black;\n",
       "    border-collapse: collapse;\n",
       "  }\n",
       "  th, td {\n",
       "    padding: 5px;\n",
       "  }\n",
       "  th {\n",
       "    text-align: left;\n",
       "  }\n",
       "</style><div class='table-result-container'><table class='table-result'><thead style='background-color: white'><tr><th>penalties</th><th>positioning</th><th>finishing</th><th>long_shots</th><th>volleys</th><th>ball_control</th><th>shot_power</th><th>free_kick_accuracy</th><th>vision</th><th>dribbling</th><th>curve</th></tr></thead><tbody><tr><td>-0.4462080000429676</td><td>-0.5821508605443947</td><td>-0.31778603081180296</td><td>-1.004306298615822</td><td>-0.3053714028973665</td><td>-0.9554141927645209</td><td>-0.43068877251681587</td><td>-0.5847890607093886</td><td>-0.25643117922136693</td><td>-0.47154882412672855</td><td>-0.4432013705785032</td></tr><tr><td>-0.4462080000429676</td><td>-0.5821508605443947</td><td>-0.31778603081180296</td><td>-1.004306298615822</td><td>-0.3053714028973665</td><td>-0.9554141927645209</td><td>-0.43068877251681587</td><td>-0.5847890607093886</td><td>-0.25643117922136693</td><td>-0.47154882412672855</td><td>-0.4432013705785032</td></tr><tr><td>-0.4462080000429676</td><td>-0.5821508605443947</td><td>-0.31778603081180296</td><td>-1.004306298615822</td><td>-0.3053714028973665</td><td>-0.9554141927645209</td><td>-0.43068877251681587</td><td>-0.5847890607093886</td><td>-0.25643117922136693</td><td>-0.47154882412672855</td><td>-0.4432013705785032</td></tr><tr><td>-0.5104930755414098</td><td>-0.6363098842483361</td><td>-0.3703281299744539</td><td>-1.0587096704118175</td><td>-0.36012015052558166</td><td>-1.0211970615302368</td><td>-0.492677161611234</td><td>-0.6408939986657455</td><td>-0.3223914758142396</td><td>-0.5278972889525612</td><td>-0.4979409557572213</td></tr><tr><td>-0.5104930755414098</td><td>-0.6363098842483361</td><td>-0.3703281299744539</td><td>-1.0587096704118175</td><td>-0.36012015052558166</td><td>-1.0211970615302368</td><td>-0.492677161611234</td><td>-0.6408939986657455</td><td>-0.3223914758142396</td><td>-0.5278972889525612</td><td>-0.4979409557572213</td></tr><tr><td>0.26092783043989665</td><td>0.23023449501472554</td><td>0.15509286165205521</td><td>0.4645847398760554</td><td>-0.5243663934102272</td><td>0.49180892008123</td><td>0.5611254529938736</td><td>1.098359077981316</td><td>0.5350923798931053</td><td>0.7681174020415887</td><td>0.9252882588894491</td></tr><tr><td>0.26092783043989665</td><td>0.23023449501472554</td><td>0.15509286165205521</td><td>0.35577799628406453</td><td>-0.9623563744359483</td><td>0.49180892008123</td><td>0.5611254529938736</td><td>1.098359077981316</td><td>0.5350923798931053</td><td>0.7681174020415887</td><td>0.9252882588894491</td></tr><tr><td>0.26092783043989665</td><td>0.12191644760684285</td><td>0.10255076248940431</td><td>0.30137462448806907</td><td>-1.1266026173205939</td><td>0.426026051315514</td><td>0.5611254529938736</td><td>1.098359077981316</td><td>0.4691320833002326</td><td>0.6554204723899235</td><td>0.815809088532013</td></tr><tr><td>0.26092783043989665</td><td>0.12191644760684285</td><td>0.0500086633267534</td><td>0.2469712526920736</td><td>-1.1266026173205939</td><td>0.426026051315514</td><td>0.5611254529938736</td><td>1.098359077981316</td><td>0.4691320833002326</td><td>0.6554204723899235</td><td>0.815809088532013</td></tr><tr><td>0.26092783043989665</td><td>0.12191644760684285</td><td>0.0500086633267534</td><td>0.2469712526920736</td><td>-1.1266026173205939</td><td>0.426026051315514</td><td>0.5611254529938736</td><td>1.098359077981316</td><td>0.4691320833002326</td><td>0.6554204723899235</td><td>0.815809088532013</td></tr></tbody></table></div>"
      ]
     },
     "metadata": {
      "application/vnd.databricks.v1+output": {
       "addedWidgets": {},
       "aggData": [],
       "aggError": "",
       "aggOverflow": false,
       "aggSchema": [],
       "aggSeriesLimitReached": false,
       "aggType": "",
       "arguments": {},
       "columnCustomDisplayInfos": {},
       "data": [
        [
         -0.4462080000429676,
         -0.5821508605443947,
         -0.31778603081180296,
         -1.004306298615822,
         -0.3053714028973665,
         -0.9554141927645209,
         -0.43068877251681587,
         -0.5847890607093886,
         -0.25643117922136693,
         -0.47154882412672855,
         -0.4432013705785032
        ],
        [
         -0.4462080000429676,
         -0.5821508605443947,
         -0.31778603081180296,
         -1.004306298615822,
         -0.3053714028973665,
         -0.9554141927645209,
         -0.43068877251681587,
         -0.5847890607093886,
         -0.25643117922136693,
         -0.47154882412672855,
         -0.4432013705785032
        ],
        [
         -0.4462080000429676,
         -0.5821508605443947,
         -0.31778603081180296,
         -1.004306298615822,
         -0.3053714028973665,
         -0.9554141927645209,
         -0.43068877251681587,
         -0.5847890607093886,
         -0.25643117922136693,
         -0.47154882412672855,
         -0.4432013705785032
        ],
        [
         -0.5104930755414098,
         -0.6363098842483361,
         -0.3703281299744539,
         -1.0587096704118175,
         -0.36012015052558166,
         -1.0211970615302368,
         -0.492677161611234,
         -0.6408939986657455,
         -0.3223914758142396,
         -0.5278972889525612,
         -0.4979409557572213
        ],
        [
         -0.5104930755414098,
         -0.6363098842483361,
         -0.3703281299744539,
         -1.0587096704118175,
         -0.36012015052558166,
         -1.0211970615302368,
         -0.492677161611234,
         -0.6408939986657455,
         -0.3223914758142396,
         -0.5278972889525612,
         -0.4979409557572213
        ],
        [
         0.26092783043989665,
         0.23023449501472554,
         0.15509286165205521,
         0.4645847398760554,
         -0.5243663934102272,
         0.49180892008123,
         0.5611254529938736,
         1.098359077981316,
         0.5350923798931053,
         0.7681174020415887,
         0.9252882588894491
        ],
        [
         0.26092783043989665,
         0.23023449501472554,
         0.15509286165205521,
         0.35577799628406453,
         -0.9623563744359483,
         0.49180892008123,
         0.5611254529938736,
         1.098359077981316,
         0.5350923798931053,
         0.7681174020415887,
         0.9252882588894491
        ],
        [
         0.26092783043989665,
         0.12191644760684285,
         0.10255076248940431,
         0.30137462448806907,
         -1.1266026173205939,
         0.426026051315514,
         0.5611254529938736,
         1.098359077981316,
         0.4691320833002326,
         0.6554204723899235,
         0.815809088532013
        ],
        [
         0.26092783043989665,
         0.12191644760684285,
         0.0500086633267534,
         0.2469712526920736,
         -1.1266026173205939,
         0.426026051315514,
         0.5611254529938736,
         1.098359077981316,
         0.4691320833002326,
         0.6554204723899235,
         0.815809088532013
        ],
        [
         0.26092783043989665,
         0.12191644760684285,
         0.0500086633267534,
         0.2469712526920736,
         -1.1266026173205939,
         0.426026051315514,
         0.5611254529938736,
         1.098359077981316,
         0.4691320833002326,
         0.6554204723899235,
         0.815809088532013
        ]
       ],
       "datasetInfos": [],
       "dbfsResultPath": null,
       "isJsonSchema": true,
       "metadata": {},
       "overflow": false,
       "plotOptions": {
        "customPlotOptions": {},
        "displayType": "table",
        "pivotAggregation": null,
        "pivotColumns": null,
        "xColumns": null,
        "yColumns": null
       },
       "removedWidgets": [],
       "schema": [
        {
         "metadata": "{}",
         "name": "penalties",
         "type": "\"double\""
        },
        {
         "metadata": "{}",
         "name": "positioning",
         "type": "\"double\""
        },
        {
         "metadata": "{}",
         "name": "finishing",
         "type": "\"double\""
        },
        {
         "metadata": "{}",
         "name": "long_shots",
         "type": "\"double\""
        },
        {
         "metadata": "{}",
         "name": "volleys",
         "type": "\"double\""
        },
        {
         "metadata": "{}",
         "name": "ball_control",
         "type": "\"double\""
        },
        {
         "metadata": "{}",
         "name": "shot_power",
         "type": "\"double\""
        },
        {
         "metadata": "{}",
         "name": "free_kick_accuracy",
         "type": "\"double\""
        },
        {
         "metadata": "{}",
         "name": "vision",
         "type": "\"double\""
        },
        {
         "metadata": "{}",
         "name": "dribbling",
         "type": "\"double\""
        },
        {
         "metadata": "{}",
         "name": "curve",
         "type": "\"double\""
        }
       ],
       "type": "table"
      }
     },
     "output_type": "display_data"
    }
   ],
   "source": [
    "scaler = StandardScaler()\n",
    "futbol_normalized_array = scaler.fit_transform(futbol_pd_top_10)\n",
    "futbol_pd_top_10_normalized = pd.DataFrame(futbol_normalized_array, columns=futbol_pd_top_10.columns)\n",
    "\n",
    "display(futbol_pd_top_10_normalized.head(10))"
   ]
  }
 ],
 "metadata": {
  "application/vnd.databricks.v1+notebook": {
   "dashboards": [],
   "language": "python",
   "notebookMetadata": {
    "mostRecentlyExecutedCommandWithImplicitDF": {
     "commandId": 848214964434792,
     "dataframes": [
      "_sqldf"
     ]
    },
    "pythonIndentUnit": 4
   },
   "notebookName": "1. Limpieza de Datos y Normalización - Regresión Lineal",
   "widgets": {}
  }
 },
 "nbformat": 4,
 "nbformat_minor": 0
}
